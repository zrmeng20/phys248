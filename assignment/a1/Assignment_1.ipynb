{
 "cells": [
  {
   "cell_type": "markdown",
   "metadata": {},
   "source": [
    "# Assignment 1\n",
    "\n",
    "Due Wednesday, Feb 2 23.59, commited to your phys248 repo on the Abacus GitLab server. You need to commit you\n",
    "\n",
    "## Problem 1\n",
    "1. Create variables `a,b,c` with strings containing the number `number = 546.5879` in the following formats\n",
    "    - `a`: decimal notation with 2 decimals\n",
    "    - `b`: \"compact scientific notation, e in the exponent\", field of 9 with 3 decimals\n",
    "    - `c`: using the `.5g` format descriptor \n",
    "2. Use `number2 = 561234.5879` and the same format descriptor as above for `c`. What is the difference? How is `g` different from `f` and `g`?\n",
    "3. Use slicing to create the 3-character string that consists of the 6th character in each of the three strings `a, b, c` in that order. Print this string."
   ]
  },
  {
   "cell_type": "code",
   "execution_count": 6,
   "metadata": {},
   "outputs": [
    {
     "name": "stdout",
     "output_type": "stream",
     "text": [
      "546.59\n",
      "5.466e+02\n",
      "546.59\n"
     ]
    }
   ],
   "source": [
    "#1\n",
    "number = 546.5879\n",
    "a = \"{:.2f}\".format(number)\n",
    "b = \"{:9.3e}\".format(number)\n",
    "c = \"{:.5g}\".format(number)\n",
    "print(a)\n",
    "print(b)\n",
    "print(c)"
   ]
  },
  {
   "cell_type": "code",
   "execution_count": 4,
   "metadata": {
    "tags": []
   },
   "outputs": [
    {
     "name": "stdout",
     "output_type": "stream",
     "text": [
      "5.6123e+05\n"
     ]
    }
   ],
   "source": [
    "#2\n",
    "number2 = 561234.5879\n",
    "c = \"{:.5g}\".format(number2)\n",
    "print(c)\n",
    "#The difference is that number2 is outputted in scientific notation in length 5 and number1 is outputted in decimal form with length of 5\n",
    "\n",
    "#\".ng\" format will compact the decimal if number of digits to the left of the radix is less than or equal to the input n. Otherwise the \".ng\"  \n",
    "#format will display the number in scientific notation and only display the first n number of digits based on \".ng\" format"
   ]
  },
  {
   "cell_type": "code",
   "execution_count": 7,
   "metadata": {},
   "outputs": [
    {
     "name": "stdout",
     "output_type": "stream",
     "text": [
      "9e9\n"
     ]
    }
   ],
   "source": [
    "#3\n",
    "number = 546.5879\n",
    "a = str(\"{:.2f}\".format(number))\n",
    "b = str(\"{:9.3e}\".format(number))\n",
    "c = str(\"{:.5g}\".format(number))\n",
    "print(a[5]+b[5]+c[5])"
   ]
  },
  {
   "cell_type": "markdown",
   "metadata": {
    "tags": []
   },
   "source": [
    "## Problem 2\n",
    "1. Set a variable `primes` to a list containing the numbers 2, 3, 5, 7, 11, and 13. Print each list element in a `for` loop. Initialize the variable `s` to `0` before the start of the loop. Then add to the loop body a statement that adds the value of each list element to `s` so that at the end `s` is the sum of the list elements. \n",
    "2. Assign 17 to a variable `p` and add `p` to the end of the list `primes`. Turn the list into a numpy array and calculate the sum, mean, median, and standard deviation of `primes`. Save the sum into the variable `q`. Divide each of these four quantities by the number $\\pi$ taken from the NumPy library and print the resulting four values formatted as a float with three decimals.\n",
    "3. Change the type of both `s` and `q` into string. Create a new string that contains the second character of `s` and `q`. \n",
    "4. Create a print statement that uses this string variable and embeds it into an answer sentence, such as _The answer to the questions is ..._. The printed sentence needs to end with a full stop.\n"
   ]
  },
  {
   "cell_type": "code",
   "execution_count": 13,
   "metadata": {},
   "outputs": [
    {
     "name": "stdout",
     "output_type": "stream",
     "text": [
      "41\n"
     ]
    }
   ],
   "source": [
    "#1\n",
    "primes = [2, 3, 5, 7, 11, 13]\n",
    "s = 0\n",
    "for i in primes:\n",
    "    s += i\n",
    "print(s)"
   ]
  },
  {
   "cell_type": "code",
   "execution_count": 15,
   "metadata": {},
   "outputs": [
    {
     "name": "stdout",
     "output_type": "stream",
     "text": [
      "    18.462\n",
      "     2.637\n",
      "     2.228\n",
      "     1.638\n"
     ]
    }
   ],
   "source": [
    "#2\n",
    "primes = [2, 3, 5, 7, 11, 13]\n",
    "import numpy as np\n",
    "p = 17\n",
    "primes.append(p)\n",
    "array = np.array(primes)\n",
    "q = array.sum()\n",
    "mean = q/len(primes)\n",
    "median = array[3]\n",
    "dev = np.std(array)\n",
    "print(\"{:10.3f}\".format(q/np.pi))\n",
    "print(\"{:10.3f}\".format(mean/np.pi))\n",
    "print(\"{:10.3f}\".format(median/np.pi))\n",
    "print(\"{:10.3f}\".format(dev/np.pi))"
   ]
  },
  {
   "cell_type": "code",
   "execution_count": 16,
   "metadata": {},
   "outputs": [
    {
     "name": "stdout",
     "output_type": "stream",
     "text": [
      "18\n"
     ]
    }
   ],
   "source": [
    "#3\n",
    "s = str(41)\n",
    "q = str(58)\n",
    "newStr = s[1]+q[1]\n",
    "print(newStr)"
   ]
  },
  {
   "cell_type": "code",
   "execution_count": 17,
   "metadata": {},
   "outputs": [
    {
     "name": "stdout",
     "output_type": "stream",
     "text": [
      "The answer to the questions is 18\n"
     ]
    }
   ],
   "source": [
    "#4\n",
    "print(\"The answer to the questions is \"+str(18))"
   ]
  },
  {
   "cell_type": "markdown",
   "metadata": {},
   "source": [
    "## Problem 3\n",
    "\n",
    "1. Using a loop to print out every even number between 0 and 20, and to store them in the list `even_numbers`.\n",
    "2. You are given a list of fruit `list_of_fruit = ['apple', 'banana', 'orange', 'tomato']` and an index list `ind = [0,2,3,3]`. Find the word that results from the sequence of letters given by the sequence of indices in `ind` applied to the sequence of fruit names in `list_of_fruits`.  Use the `zip` function.  Print the resulting word.\n"
   ]
  },
  {
   "cell_type": "code",
   "execution_count": 3,
   "metadata": {},
   "outputs": [
    {
     "name": "stdout",
     "output_type": "stream",
     "text": [
      "[0, 2, 4, 6, 8, 10, 12, 14, 16, 18, 20]\n"
     ]
    }
   ],
   "source": [
    "#1 \n",
    "even_numbers = []\n",
    "for i in range (21):\n",
    "    if i%2 == 0:\n",
    "        even_numbers.append(i)\n",
    "print(even_numbers)"
   ]
  },
  {
   "cell_type": "code",
   "execution_count": 12,
   "metadata": {},
   "outputs": [
    {
     "name": "stdout",
     "output_type": "stream",
     "text": [
      "anna\n"
     ]
    }
   ],
   "source": [
    "# 2\n",
    "list_of_fruit = ['apple', 'banana', 'orange', 'tomato']\n",
    "ind = [0,2,3,3]\n",
    "\n",
    "res = ''\n",
    "for i, j in zip(list_of_fruit, ind):\n",
    "    res += i[j]\n",
    "print(res)\n"
   ]
  },
  {
   "cell_type": "markdown",
   "metadata": {},
   "source": [
    "## Problem 4\n",
    "\n",
    "1. Create a new Markdown cell. Explain with a short statement why the output of\n",
    "```Python\n",
    "True == 1 and \"Output\"\n",
    "```\n",
    "is `Output`.\n",
    "2. The list `strings` is given as \n",
    "`strings = ['ap', 'bcd', 'efgaVij','klm','noprqrst','uiwx','yhz']` and `word = 'Victoria'`\n",
    "    - Write code that finds _all_ indices of `strings` that contain letters in `word` (for example the index `[0][1]` refers to the letter `p` in the first element of `strings` and is not contained in `word`. Save these indices (these are pairs of numbers where the first number is the index of the element of `strings` and the second is the index of the letter in the element of `strings`) in the list `ind`.\n",
    "    -  Write a code cell that finds the list of indices of `strings` saved in the list variable `ind2` in the right order so that the code\n",
    "```Python\n",
    "create_name = \"\"\n",
    "for ii in ind2: create_name += strings[ii[0]][ii[1]]\n",
    "print(create_name)    \n",
    "```\n",
    "    returns the value of `word`."
   ]
  },
  {
   "cell_type": "markdown",
   "metadata": {},
   "source": [
    "#1\n",
    "in this case, we are applying boolean evaluation of objects, since string is an object, we need to output the string object \"Output\""
   ]
  },
  {
   "cell_type": "code",
   "execution_count": 13,
   "metadata": {},
   "outputs": [
    {
     "name": "stdout",
     "output_type": "stream",
     "text": [
      "Victoria\n"
     ]
    }
   ],
   "source": [
    "#2\n",
    "strings = ['ap', 'bcd', 'efgaVij','klm','noprqrst','uiwx','yhz']\n",
    "word = 'Victoria'\n",
    "ind = []\n",
    "for i in range(len(strings)):\n",
    "    for j in range(len(strings[i])):\n",
    "        if strings[i][j] in word:\n",
    "           ind.append([i, j])\n",
    "\n",
    "ind2 = []\n",
    "create_name = \"\"\n",
    "for char in word:\n",
    "    for item in ind:\n",
    "        if strings[item[0]][item[1]] == char:\n",
    "            ind2.append([item[0], item[1]])\n",
    "            break\n",
    "\n",
    "for ii in ind2:\n",
    "    create_name += strings[ii[0]][ii[1]]\n",
    "print(create_name)"
   ]
  },
  {
   "cell_type": "code",
   "execution_count": null,
   "metadata": {},
   "outputs": [],
   "source": []
  }
 ],
 "metadata": {
  "jupytext": {
   "formats": "ipynb,md"
  },
  "kernelspec": {
   "display_name": "Python 3",
   "language": "python",
   "name": "python3"
  },
  "language_info": {
   "codemirror_mode": {
    "name": "ipython",
    "version": 3
   },
   "file_extension": ".py",
   "mimetype": "text/x-python",
   "name": "python",
   "nbconvert_exporter": "python",
   "pygments_lexer": "ipython3",
   "version": "3.6.9"
  },
  "widgets": {
   "application/vnd.jupyter.widget-state+json": {
    "state": {},
    "version_major": 2,
    "version_minor": 0
   }
  }
 },
 "nbformat": 4,
 "nbformat_minor": 4
}

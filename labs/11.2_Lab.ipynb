{
 "cells": [
  {
   "cell_type": "markdown",
   "metadata": {},
   "source": [
    "## Lab 11.2\n",
    "\n",
    "### Activity 1\n",
    "Complete this activity before the end of the lab by entering the answer into the Brightspace quiz. Add, commit and push this notebook to your repository.\n",
    " "
   ]
  },
  {
   "cell_type": "markdown",
   "metadata": {},
   "source": [
    "\n",
    "Name: `time-T9-five` `temp-3`\n",
    "\n",
    "Complete  activity 1 before the end of the lab by entering the answer into the CourseSpaces quiz.\n",
    "\n",
    "A trajectory is a time evolution of temperature. In this case it describes typical timescales and temperatures for H-burning nucleosynthesis in stars. \n",
    "\n",
    "1. Read file `T-evol.dat` using numpy's `loadtxt` method (see nb `2.2_Python_II.ipynb`) and combine all data read from the file into one dictionary `traj_data`, so that you can access it like this: `traj_data['T9']` and likewise for key `'time'`. \n",
    "2. Plot temperature as a function of time. Use log scale when appropriate. \n",
    "3. Calculate the product of the fifth values of time and temperature contained in the file `T-evol.dat` using the dictionary `traj_data`. Enter the product into the quiz `time-T9-five`, **rounded to two decimals!**\n",
    "4. Create a linear interpolation object using `interpolate.interp1d` called `temp_int`. Enter the result of `temp_int(2.0e4)` rounded to two decimals into quiz `temp-3`."
   ]
  },
  {
   "cell_type": "code",
   "execution_count": null,
   "metadata": {},
   "outputs": [],
   "source": [
    "%pylab ipympl"
   ]
  },
  {
   "cell_type": "code",
   "execution_count": 40,
   "metadata": {},
   "outputs": [
    {
     "data": {
      "image/png": "[encoded data removed]",
      "text/plain": [
       "<Figure size 432x288 with 1 Axes>"
      ]
     },
     "metadata": {
      "needs_background": "light"
     },
     "output_type": "display_data"
    },
    {
     "name": "stdout",
     "output_type": "stream",
     "text": [
      "Product of the fifth val: 0.40893817284161543\n"
     ]
    },
    {
     "data": {
      "text/plain": [
       "array(0.14997382)"
      ]
     },
     "execution_count": 40,
     "metadata": {},
     "output_type": "execute_result"
    }
   ],
   "source": [
    "import numpy as np\n",
    "import matplotlib.pyplot as plt\n",
    "from scipy.interpolate import interp1d\n",
    "\n",
    "t, T = np.loadtxt(\"../Assignments/T-evol.dat\", unpack=True)\n",
    "traj_data = {\"T9\": T[1:], \"t\": t[1:]}\n",
    "\n",
    "plt.plot(np.log10(traj_data[\"t\"]), traj_data[\"T9\"])\n",
    "plt.show()\n",
    "print(f\"Product of the fifth val: {traj_data['t'][3]*traj_data['T9'][3]}\")\n",
    "\n",
    "temp_int = interp1d(t, T, kind='linear')\n",
    "temp_int(2.0*10**4)"
   ]
  },
  {
   "cell_type": "markdown",
   "metadata": {},
   "source": [
    "### Activity 2\n",
    "Name: `rate-0.2`, `4rates-sum`\n",
    "\n",
    "Finish by Thursday 9:30am. \n",
    "\n",
    "In the `Data` dir you find these files: `files = ['c12pg.txt','c13pg.txt','n14pg.txt','n15pa.txt']`. They each contain a table with two columns, the temperature in units of $10^9K$ called `T9` and a reaction rate. \n",
    "\n",
    "1. Create a data dictionary called `nucdata` that has as first key the file name, and then for each file data set the two key `T9` and `rate`. It contains all reaction rate data and can be accessed like this: `nucdata['n15pa.txt']['rate'][where(nucdata['n15pa.txt']['T9']==0.2)[0][0]]` which would return the rate from the `n15pa.txt` file for `T9 = 0.02`. Round to two decimals and enter into `rate-0.2` \n",
    "2. Create in a loop over `files` a 1D interpolation function and store these in a list called `fints`. Make a plot of the four interpolation functions for the temperature array `TT=linspace(0.1,0.3,100)`. Each line must have different color, shape and glyph. Use `markevery` to ensure that there are not too many glyphs.  \n",
    "3. Write a function `get_rates` that takes this list as an optional argument, as well as a temperature as `T9` and return the interpolated rates from all for files. Calculate the sum of the four rates as returned from `get_rates` for `T9=0.189`, and enter into `4rates-sum` rounded to two decimals. "
   ]
  },
  {
   "cell_type": "code",
   "execution_count": 1,
   "metadata": {},
   "outputs": [],
   "source": [
    "# Hint: consider using a dictionary to build your reaction rate data object.\n"
   ]
  },
  {
   "cell_type": "code",
   "execution_count": 33,
   "metadata": {},
   "outputs": [
    {
     "name": "stdout",
     "output_type": "stream",
     "text": [
      "rate-0.2: 96.63554\n",
      "rate-sum: 54.623098850354545\n"
     ]
    },
    {
     "data": {
      "image/png": "[encoded data removed]",
      "text/plain": [
       "<Figure size 432x288 with 1 Axes>"
      ]
     },
     "metadata": {
      "needs_background": "light"
     },
     "output_type": "display_data"
    }
   ],
   "source": [
    "import numpy as np\n",
    "import matplotlib.pyplot as plt\n",
    "from scipy.interpolate import interp1d\n",
    "\n",
    "files = ['c12pg.txt','c13pg.txt','n14pg.txt','n15pa.txt']\n",
    "nucdata = {}\n",
    "\n",
    "for item in files:\n",
    "    T, rate = np.loadtxt(\"../Data/\"+item, unpack = True)\n",
    "    nucdata[item] = {\"T9\": T, \"rate\": rate}\n",
    "\n",
    "rate1 = nucdata['n15pa.txt']['rate'][np.where(nucdata['n15pa.txt']['T9']==0.2)[0][0]]\n",
    "print(f'rate-0.2: {rate1}')\n",
    "    \n",
    "TT = np.linspace(0.1, 0.3, 100)\n",
    "fints = []\n",
    "for i in files:\n",
    "    fints.append(interp1d(nucdata[i]['T9'], np.log10(nucdata[i]['rate']), kind='cubic'))\n",
    "    \n",
    "def get_rates(T, fints):\n",
    "    res = []\n",
    "    for i, temp in enumerate(fints):\n",
    "        res.append(fints[i](T))\n",
    "    return np.array(res)\n",
    "\n",
    "print(f'rate-sum: {sum(10**get_rates(0.189, fints))}')\n",
    "\n",
    "for i in range(4):\n",
    "    plt.plot(TT, 10**fints[i](TT), '--')\n",
    "    \n",
    "plt.show()"
   ]
  },
  {
   "cell_type": "code",
   "execution_count": null,
   "metadata": {},
   "outputs": [],
   "source": []
  }
 ],
 "metadata": {
  "kernelspec": {
   "display_name": "Python 3",
   "language": "python",
   "name": "python3"
  },
  "language_info": {
   "codemirror_mode": {
    "name": "ipython",
    "version": 3
   },
   "file_extension": ".py",
   "mimetype": "text/x-python",
   "name": "python",
   "nbconvert_exporter": "python",
   "pygments_lexer": "ipython3",
   "version": "3.6.9"
  },
  "widgets": {
   "application/vnd.jupyter.widget-state+json": {
    "state": {},
    "version_major": 2,
    "version_minor": 0
   }
  }
 },
 "nbformat": 4,
 "nbformat_minor": 4
}

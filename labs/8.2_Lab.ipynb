{
 "cells": [
  {
   "cell_type": "markdown",
   "metadata": {},
   "source": [
    "## Lab 8.2\n",
    "\n",
    "Don't forget to push your lab notebook to your repo once you entered a quiz."
   ]
  },
  {
   "cell_type": "markdown",
   "metadata": {},
   "source": [
    "### Activity 1\n",
    "Name: `growth-at4`\n",
    "\n",
    "Exponential growth (for example of a population) can be modelled by the following equation\n",
    "\n",
    "$$\n",
    "u'(t) = \\alpha u(t)\n",
    "$$\n",
    "\n",
    "where $\\alpha>0$ is a given constant. If the initial condition is given by  $u(0) = u_0$ the solution is given by $u(t) = u_0 e^{\\alpha t}$. Since $\\alpha>0$ the solution becomes very large as $t$ increases. For a short time, such growth of a population may be realistic, but over a longer time, the growth of a population is restricted due to limitations of the environment. This can be described by a _logistic growth term_:\n",
    "\n",
    "$$\n",
    "u'(t) = \\alpha u(t)  \\left ( 1-\\frac{u(t)}{R}  \\right )\n",
    "$$\n",
    "\n",
    "Solve this equation for $u_0 = 2$, $\\alpha = 1$ and $R=100$ for $t\\in[0,11]$. Make a plot of $u(t)$. What is $u(4)$. Enter the value rounded to one decimal in question `growth-at4`.\n"
   ]
  },
  {
   "cell_type": "code",
   "execution_count": 47,
   "metadata": {},
   "outputs": [
    {
     "name": "stdout",
     "output_type": "stream",
     "text": [
      "u(4) = 53.779586002488855\n"
     ]
    },
    {
     "data": {
      "image/png": "[encoded data removed]",
      "text/plain": [
       "<Figure size 432x288 with 1 Axes>"
      ]
     },
     "metadata": {
      "needs_background": "light"
     },
     "output_type": "display_data"
    }
   ],
   "source": [
    "import numpy as np\n",
    "import matplotlib.pyplot as plt\n",
    "from scipy.integrate import solve_ivp\n",
    "\n",
    "u0 = 2\n",
    "a = 1\n",
    "R = 100\n",
    "t = np.linspace(0, 11)\n",
    "\n",
    "dudt = lambda t, u: a*u*(1-u/R)\n",
    "u = solve_ivp(fun=dudt, t_span=(0, 11), y0=[u0], t_eval=t)\n",
    "\n",
    "plt.plot(u.t, u.y[0])\n",
    "\n",
    "ind = np.where(abs(u.t-4)<=0.05)[0][0]\n",
    "print(f'u(4) = {u.y[0][ind]}')"
   ]
  },
  {
   "cell_type": "markdown",
   "metadata": {},
   "source": [
    "### Activity 2\n",
    "Name: `skydiver-v7.5`\n",
    "\n",
    "Solve the skydiver problem with the same initial height ($2000m$) and $k$ value as in class with the library `integrate.solve_ivp` and make a plot of velocity vs. time for $t \\in [0,7.5]s$. Enter the velocity at $t=7.5s$ rounded to two decimal places into question `skydiver-v7.5`."
   ]
  },
  {
   "cell_type": "code",
   "execution_count": 60,
   "metadata": {},
   "outputs": [
    {
     "name": "stdout",
     "output_type": "stream",
     "text": [
      "v(7.5) = -52.88422694703941\n"
     ]
    },
    {
     "data": {
      "image/png": "[encoded data removed]",
      "text/plain": [
       "<Figure size 432x288 with 1 Axes>"
      ]
     },
     "metadata": {
      "needs_background": "light"
     },
     "output_type": "display_data"
    }
   ],
   "source": [
    "import numpy as np\n",
    "from scipy.integrate import solve_ivp\n",
    "\n",
    "h0 = 2000\n",
    "k = (0.3*1.224)/(80*2)\n",
    "t = np.linspace(0, 7.5)\n",
    "g = 9.8\n",
    "\n",
    "dvdt = lambda t, v: -1*g + k*(v**2)\n",
    "v = solve_ivp(fun=dvdt, t_span=(0, 7.5), y0=[0], t_eval=t)\n",
    "\n",
    "plt.plot(v.t, v.y[0])\n",
    "\n",
    "print(f'v(7.5) = {v.y[0][-1]}')"
   ]
  },
  {
   "cell_type": "code",
   "execution_count": null,
   "metadata": {},
   "outputs": [],
   "source": []
  }
 ],
 "metadata": {
  "kernelspec": {
   "display_name": "Python 3",
   "language": "python",
   "name": "python3"
  },
  "language_info": {
   "codemirror_mode": {
    "name": "ipython",
    "version": 3
   },
   "file_extension": ".py",
   "mimetype": "text/x-python",
   "name": "python",
   "nbconvert_exporter": "python",
   "pygments_lexer": "ipython3",
   "version": "3.6.9"
  },
  "widgets": {
   "application/vnd.jupyter.widget-state+json": {
    "state": {},
    "version_major": 2,
    "version_minor": 0
   }
  }
 },
 "nbformat": 4,
 "nbformat_minor": 4
}

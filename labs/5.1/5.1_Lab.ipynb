{
 "cells": [
  {
   "cell_type": "markdown",
   "metadata": {},
   "source": [
    "## Lab 5.1\n",
    "\n",
    "### Activity 1 \n",
    "Name: `int-midpoint`\n",
    "\n",
    "1. Create a python function using the `def` method that takes `x` as an input and returns the function value $f(x) =  x^2 e^x $ for $x\\in[-1,1]$. \n",
    "2. Using this function create a bar plot with 20 rectangles according to the midpoint rule. Also add a line plot of $f(x)$ with an array for plotting `xp` that has 200 points.\n",
    "3. Calculate the area under the curve by numerical integration using the midpoint rule. Don't use a loop. Print the result in a formatted print statement, with 4 decimals. Enter just the numerical answer into the Brighspace question `int-midpoint`.\n",
    "\n",
    "\n",
    "**Solution:**"
   ]
  },
  {
   "cell_type": "code",
   "execution_count": 8,
   "metadata": {},
   "outputs": [
    {
     "name": "stdout",
     "output_type": "stream",
     "text": [
      "0.9137\n"
     ]
    },
    {
     "data": {
      "image/png": "[encoded data removed]",
      "text/plain": [
       "<Figure size 432x288 with 1 Axes>"
      ]
     },
     "metadata": {
      "needs_background": "light"
     },
     "output_type": "display_data"
    }
   ],
   "source": [
    "import numpy as np\n",
    "from math import e\n",
    "x = linspace(-1, 1, 21)\n",
    "ifig=11;close(ifig);figure(ifig)\n",
    "\n",
    "def f(x):\n",
    "    return (x**2)*(e**x)\n",
    "\n",
    "#plot the bar\n",
    "x_mid = (x[:-1]+x[1:])/2\n",
    "y_mid = f(x_mid)\n",
    "plt.bar(x_mid, y_mid, width=2/21)\n",
    "\n",
    "#plot cp with 200 points\n",
    "xp = linspace(-1, 1, 201)\n",
    "plt.plot(xp, f(xp))\n",
    "\n",
    "#compute the area\n",
    "dx = 2/20\n",
    "mid_pt = linspace(-1+dx/2, 1-dx/2, 21)\n",
    "area = np.sum(f(mid_pt)*dx)\n",
    "print('%.4f'%area)"
   ]
  },
  {
   "cell_type": "markdown",
   "metadata": {},
   "source": [
    "### Activity 2 \n",
    "Name: `trig-circle`\n",
    "\n",
    "![trig cirlce image](trig-circ.png)\n",
    "\n",
    "Using the Monte Carlo method with 1000 samples determine the area covered by the green shape. The red line which outlines the shape in the upper-right quadrant is given by the $(x,y)$ points given in the file `trig-circ.dat`. Make a plot of the data in the file to make sure you have read the data correctly. Enter the answer in the quiz.\n",
    "\n",
    "\n",
    "**Solution:**"
   ]
  },
  {
   "cell_type": "code",
   "execution_count": 47,
   "metadata": {},
   "outputs": [
    {
     "name": "stdout",
     "output_type": "stream",
     "text": [
      "1565\n",
      "2.8598984771573606\n"
     ]
    }
   ],
   "source": [
    "import numpy as np\n",
    "#read the dat file\n",
    "file = open('trig-circ.dat', 'r')\n",
    "x, y = np.loadtxt('trig-circ.dat', unpack = True)\n",
    "#generate radius and theta from the data file\n",
    "rad1 = sqrt(x**2+y**2)\n",
    "theta1 = arctan(y/x)\n",
    "#generate x-y values from random points\n",
    "rng = random.default_rng()\n",
    "xrad, yrad = 1.2*rng.random((2, 1000))\n",
    "rad2 = sqrt(xrad**2+yrad**2)\n",
    "theta2 = arctan(yrad/xrad)\n",
    "#approximate\n",
    "total = 0\n",
    "count = 0\n",
    "for i in range(1000):\n",
    "    closest = abs(theta1[0]-theta2[i])\n",
    "    ind = 0\n",
    "    #find the closest angle theta difference\n",
    "    for j in range(120):\n",
    "        if abs(theta1[j]-theta2[i]) < closest:\n",
    "            closest = abs(theta1[j]-theta2[i])\n",
    "            ind = j\n",
    "    #count the points under the curve\n",
    "    start_theta = min(theta1[ind], theta2[i])\n",
    "    end_theta = max(theta1[ind], theta2[i])\n",
    "    for k in range(1000):\n",
    "        if theta2[k]>=start_theta and theta2[k]<=end_theta:\n",
    "            total+=1\n",
    "            if rad2[k]<=rad1[ind]:\n",
    "                count+=1\n",
    "area = 4*(1.2**2)*(count/total)\n",
    "print(area)"
   ]
  },
  {
   "cell_type": "code",
   "execution_count": null,
   "metadata": {},
   "outputs": [],
   "source": []
  }
 ],
 "metadata": {
  "kernelspec": {
   "display_name": "Python 3",
   "language": "python",
   "name": "python3"
  },
  "language_info": {
   "codemirror_mode": {
    "name": "ipython",
    "version": 3
   },
   "file_extension": ".py",
   "mimetype": "text/x-python",
   "name": "python",
   "nbconvert_exporter": "python",
   "pygments_lexer": "ipython3",
   "version": "3.6.9"
  },
  "widgets": {
   "application/vnd.jupyter.widget-state+json": {
    "state": {},
    "version_major": 2,
    "version_minor": 0
   }
  }
 },
 "nbformat": 4,
 "nbformat_minor": 4
}

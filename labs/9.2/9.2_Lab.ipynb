{
 "cells": [
  {
   "cell_type": "markdown",
   "metadata": {},
   "source": [
    "## Lab 9.2\n",
    "\n",
    "Before you start copy this notebook into your own `mp248/Labs` folder and then start entering the solution into the copy. That way you can add it there to the next commit of your mp248 repo. "
   ]
  },
  {
   "cell_type": "markdown",
   "metadata": {},
   "source": [
    "### Activity 1\n",
    "Name: `slope-regression`\n",
    "\n",
    "Complete this activity before the end of the lab by entering the answer into the Coursespaces assignment. Add, commit and push this notebook to your repository.\n",
    "\n",
    "\n",
    "Read in the Python pickle file `Data/data_lab9.2_A1.pickle`. It contains six arrays which represent three pairs of `(x,y)` data. \n",
    "\n",
    "1. Find out which of the three data sets has the strongest correlation.\n",
    "2. For that data set with the strongest correlation make a linear regression and determine the fit parameters slope and intercept. Make a plot of the data along with the regression linear relation.\n",
    "3. Enter the slope into quiz question `slope-regression`."
   ]
  },
  {
   "cell_type": "code",
   "execution_count": 94,
   "metadata": {},
   "outputs": [
    {
     "name": "stdout",
     "output_type": "stream",
     "text": [
      "slope-regression: -0.9162288672287586\n"
     ]
    },
    {
     "data": {
      "image/png": "[encoded data removed]",
      "text/plain": [
       "<Figure size 432x288 with 1 Axes>"
      ]
     },
     "metadata": {
      "needs_background": "light"
     },
     "output_type": "display_data"
    }
   ],
   "source": [
    "import pickle\n",
    "import matplotlib.pyplot as plt\n",
    "from scipy import stats\n",
    "\n",
    "f = open(\"data_lab9.2_A1.pickle\", 'rb')\n",
    "x = pickle.load(f)\n",
    "maxr = 0\n",
    "ind = 0\n",
    "for i in range(0, 6, 2):\n",
    "    r, p = stats.pearsonr(x[i], x[i+1])\n",
    "    if abs(r) > abs(maxr):\n",
    "        ind = i\n",
    "        maxr = r\n",
    "        \n",
    "plt.plot(x[ind], x[ind+1], 'o')\n",
    "slope, b, r, p, err = stats.linregress(x[ind], x[ind+1])\n",
    "plt.plot(x[ind], slope*x[ind]+b)\n",
    "\n",
    "print(f'slope-regression: {slope}')\n",
    "\n",
    "f.close()"
   ]
  },
  {
   "cell_type": "markdown",
   "metadata": {},
   "source": [
    "### Activity 2\n",
    "Name: `sqrt-fit`\n",
    "\n",
    "Finish by Monday 9:30am. \n",
    "\n",
    "1. Read data sets `X` and `Y` from pickle file `Data/data_lab9.2_A2.pickle`. \n",
    "2. Fit the data with a model function $f(x) = a \\sqrt{x} +b$.\n",
    "3. Make a plot of the data and the model fit to check your fit.\n",
    "4. Enter $a+b$ into quiz `sqrt-fit`.\n"
   ]
  },
  {
   "cell_type": "code",
   "execution_count": 75,
   "metadata": {},
   "outputs": [
    {
     "data": {
      "image/png": "[encoded data removed]",
      "text/plain": [
       "<Figure size 432x288 with 1 Axes>"
      ]
     },
     "metadata": {
      "needs_background": "light"
     },
     "output_type": "display_data"
    },
    {
     "name": "stdout",
     "output_type": "stream",
     "text": [
      "a+b: 3.5450041444862177\n"
     ]
    }
   ],
   "source": [
    "import pickle\n",
    "import matplotlib.pyplot as plt\n",
    "from scipy.optimize import curve_fit\n",
    "\n",
    "f = open(\"data_lab9.2_A2.pickle\", \"rb\")\n",
    "data = pickle.load(f)\n",
    "x = data[0]\n",
    "y = data[1]\n",
    "\n",
    "# scatter plot\n",
    "plt.plot(x, y, 'o')\n",
    "\n",
    "def func(x, a, b):\n",
    "    return a*x**0.5+b\n",
    "    \n",
    "# fit the data\n",
    "y2 = curve_fit(func, x, y)\n",
    "plt.plot(x, func(x, y2[0][0], y2[0][1]))\n",
    "plt.show()\n",
    "\n",
    "print(f\"a+b: {y2[0][0]+y2[0][1]}\")\n",
    "\n",
    "f.close()"
   ]
  },
  {
   "cell_type": "code",
   "execution_count": null,
   "metadata": {},
   "outputs": [],
   "source": []
  }
 ],
 "metadata": {
  "kernelspec": {
   "display_name": "Python 3",
   "language": "python",
   "name": "python3"
  },
  "language_info": {
   "codemirror_mode": {
    "name": "ipython",
    "version": 3
   },
   "file_extension": ".py",
   "mimetype": "text/x-python",
   "name": "python",
   "nbconvert_exporter": "python",
   "pygments_lexer": "ipython3",
   "version": "3.6.9"
  }
 },
 "nbformat": 4,
 "nbformat_minor": 4
}

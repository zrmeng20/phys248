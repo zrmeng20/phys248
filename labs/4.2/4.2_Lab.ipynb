{
 "cells": [
  {
   "cell_type": "markdown",
   "metadata": {},
   "source": [
    "## Lab 4.2\n",
    "\n",
    "### Activity 1"
   ]
  },
  {
   "cell_type": "markdown",
   "metadata": {},
   "source": [
    "\n",
    "Name: `random-bytes`, `byte-per-character`\n",
    "\n",
    "1. Write a Python code cell that creates 1000 random numbers (find the lecture notebook where we covered this by using the Bash commands `cd ~/phys248/Lectures` and `grep random *`) and write them into a file called `random.dat`. Write one random number in each line, but number them and write each line in the following format: `__34_0.4504723`\n",
    "where `_` means a space. This can be done with a `for` loop using the `enumerate` function. \n",
    "\n",
    "2. Look into the `man` page of the `du` command and determine the command line option that will display the size of the file `random.dat` in bytes. Enter the number of bytes into the quiz question `random-bytes`.\n",
    "\n",
    "3. Based on the content of the file and the file size in bytes, how many bytes are used to store each character? Enter this number into quiz question `byte-per-character`. Explain your reasoning in a Markdown cell."
   ]
  },
  {
   "cell_type": "code",
   "execution_count": null,
   "metadata": {},
   "outputs": [],
   "source": [
    "%pylab ipympl"
   ]
  },
  {
   "cell_type": "code",
   "execution_count": 73,
   "metadata": {},
   "outputs": [],
   "source": [
    "rng = random.default_rng()\n",
    "res = rng.random(1000)\n",
    "file = open('random.dat', 'a')\n",
    "for index, num in enumerate(res):\n",
    "    file.write(f\" {index+1:4d} {num:7f}\\n\")\n",
    "file.close()"
   ]
  },
  {
   "cell_type": "markdown",
   "metadata": {
    "tags": []
   },
   "source": [
    "### Activity 2\n"
   ]
  },
  {
   "cell_type": "markdown",
   "metadata": {},
   "source": [
    "Name: `random_mod_y_mean`\n",
    "\n",
    "1. Add the file `random.dat` to the `Labs` dir of your `phys248` repository, commit and push to remote.\n",
    "2. Use the bash command `sed` (again, you can use the `grep` command to remind yourself when we covered this in class) and the output redirection `>` to create a file `random_mod.dat` which has the same content as `random.dat` except that all occurrence of `.9` are replaced with `.2` and all occurrences of `.8` change to `.1`. _Note:_ the dot `.` is a metacharacter and needs to be escaped with `\\` (see lecture notebook 1.2) and for each replacement the old and new strings need to be in quotes. (Advanced topic: research the difference between single and double quotes). \n",
    "3. Read in the file `random_mod.dat` and save the columns into the float array variables `i` and `y`. Try to use the most compact way to do this, which should only take one line of code.\n",
    "4. Make a histogram of both x from Activity 1 and y. Make sure that both are easily visible!\n",
    "5. Take the mean of `y` and enter it in the quiz question `random_mod_y_mean`"
   ]
  },
  {
   "cell_type": "code",
   "execution_count": 74,
   "metadata": {},
   "outputs": [
    {
     "name": "stdout",
     "output_type": "stream",
     "text": [
      "0.355892808\n"
     ]
    },
    {
     "data": {
      "image/png": "[encoded data removed]",
      "text/plain": [
       "<Figure size 432x288 with 1 Axes>"
      ]
     },
     "metadata": {
      "needs_background": "light"
     },
     "output_type": "display_data"
    }
   ],
   "source": [
    "import numpy as np\n",
    "#read the random_mod.dat file\n",
    "file = open('random_mod.dat', 'r')\n",
    "i, y = np.loadtxt('random_mod.dat', unpack = True)\n",
    "plt.hist(y,bins=100)\n",
    "print(y.sum()/1000)"
   ]
  },
  {
   "cell_type": "code",
   "execution_count": null,
   "metadata": {},
   "outputs": [],
   "source": []
  }
 ],
 "metadata": {
  "kernelspec": {
   "display_name": "Python 3",
   "language": "python",
   "name": "python3"
  },
  "language_info": {
   "codemirror_mode": {
    "name": "ipython",
    "version": 3
   },
   "file_extension": ".py",
   "mimetype": "text/x-python",
   "name": "python",
   "nbconvert_exporter": "python",
   "pygments_lexer": "ipython3",
   "version": "3.6.9"
  }
 },
 "nbformat": 4,
 "nbformat_minor": 4
}

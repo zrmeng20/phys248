{
 "cells": [
  {
   "cell_type": "markdown",
   "metadata": {},
   "source": [
    "## Lab 12.1\n",
    "\n",
    "Add, commit and push this notebook to your repository.\n"
   ]
  },
  {
   "cell_type": "markdown",
   "metadata": {},
   "source": [
    "### Activity 1\n",
    "Name: `sympy-highp`, `sympy-roots`\n",
    "\n",
    "Finish by the end of the lab at 12:50.\n",
    "\n",
    "\n",
    "Define two expressions:\n",
    "$$\n",
    "\\left(x - 2 y\\right) \\left(x^{2} + 2 y - 3\\right)\n",
    "$$\n",
    "and \n",
    "$$\n",
    "\\left(x^{2} - 5 y\\right) \\left(2 y^{2} + \\frac{1}{x}\\right)\n",
    "$$\n",
    "\n",
    "1. Expand the product of these expressions. What is the highest power of $x$ appearing in any term (by inspection)? Enter into quiz `sympy-highp`.\n",
    "2. Substitute $y$ with $1$ in the product of the two expressions and make a plot of the resulting expression as a function of $x$. Start with $x \\in [-5,5]$ and then zoom in to find visually the approximate location of the roots. Then find the roots by using the appropriate Sympy method. Enter the product of the sum of the roots times the number of roots into quiz `sympy-roots`."
   ]
  },
  {
   "cell_type": "code",
   "execution_count": null,
   "metadata": {},
   "outputs": [],
   "source": [
    "%pylab ipympl"
   ]
  },
  {
   "cell_type": "code",
   "execution_count": 62,
   "metadata": {},
   "outputs": [
    {
     "name": "stdout",
     "output_type": "stream",
     "text": [
      "highest power is 5\n"
     ]
    },
    {
     "data": {
      "image/png": "[encoded data removed]",
      "text/plain": [
       "<Figure size 432x288 with 1 Axes>"
      ]
     },
     "metadata": {
      "needs_background": "light"
     },
     "output_type": "display_data"
    },
    {
     "name": "stdout",
     "output_type": "stream",
     "text": [
      "9\n"
     ]
    }
   ],
   "source": [
    "import sympy\n",
    "import numpy as np\n",
    "import matplotlib.pyplot as plt\n",
    "\n",
    "x, y = sympy.symbols('x y')\n",
    "exp = sympy.expand((x-2*y)*(x**2+2*y-3))\n",
    "exp2 = sympy.expand((x**2-5*y)*(2*y**2+1/x))\n",
    "exp = sympy.expand(exp*exp2)\n",
    "print(\"highest power is 5\")\n",
    "\n",
    "f = exp.subs(y, 1)\n",
    "root = sympy.solve(f, x)\n",
    "\n",
    "fx = sympy.lambdify(x, f)\n",
    "t = np.linspace(-5, 5)\n",
    "plt.plot(t, fx(t))\n",
    "plt.show()\n",
    "print(sum(root)*len(root))\n"
   ]
  },
  {
   "cell_type": "markdown",
   "metadata": {},
   "source": [
    "### Activity 2\n",
    "Name: `sympy-dxxy`, `sympy-int`\n",
    "\n",
    "\n",
    "1. Create an expression that is the derivative $\\frac{d^{3}}{d yd x^{2}}$ of the product of the expressions from Activity 1. Evaluate the derivative for $x = 1$ and $y = 0.5$ and enter into quiz `sympy-dxxy`.\n",
    "2. Evaluate the anti-derivative the function from Activity 1 part 2 (where $y=1$ in the product of the expressions) for $x = 1$ and enter the value into quiz `sympy-int` rounded to 3 decimals."
   ]
  },
  {
   "cell_type": "code",
   "execution_count": 79,
   "metadata": {},
   "outputs": [
    {
     "name": "stdout",
     "output_type": "stream",
     "text": [
      "2*x**5 - 3*x**4 - 14*x**3 + 18*x**2 + 22*x - 15 - 10/x\n",
      "d3/dydx2(1, 0.5): -77.0000000000000\n",
      "Integral: -1.767\n"
     ]
    }
   ],
   "source": [
    "print(f)\n",
    "der = sympy.diff(exp, x)\n",
    "der = sympy.diff(der, x)\n",
    "der = sympy.diff(der, y)\n",
    "der = der.subs(x, 1)\n",
    "der = der.subs(y, 0.5)\n",
    "print(f'd3/dydx2(1, 0.5): {der}')\n",
    "\n",
    "Fx = sympy.integrate(f, x)\n",
    "Fx = Fx.subs(x, 1)\n",
    "print(f'Integral: {float(Fx):.3f}')"
   ]
  }
 ],
 "metadata": {
  "kernelspec": {
   "display_name": "Python 3",
   "language": "python",
   "name": "python3"
  },
  "language_info": {
   "codemirror_mode": {
    "name": "ipython",
    "version": 3
   },
   "file_extension": ".py",
   "mimetype": "text/x-python",
   "name": "python",
   "nbconvert_exporter": "python",
   "pygments_lexer": "ipython3",
   "version": "3.6.9"
  },
  "widgets": {
   "application/vnd.jupyter.widget-state+json": {
    "state": {},
    "version_major": 2,
    "version_minor": 0
   }
  }
 },
 "nbformat": 4,
 "nbformat_minor": 4
}

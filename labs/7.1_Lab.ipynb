{
 "cells": [
  {
   "cell_type": "markdown",
   "metadata": {},
   "source": [
    "## Lab 7.1\n"
   ]
  },
  {
   "cell_type": "markdown",
   "metadata": {},
   "source": [
    "### Activity 1\n",
    "Name: `sun-area`\n",
    "\n",
    "\n",
    "* Size of Sonoran desert: 260,000 square kilometers\n",
    "* Power of solar radiation per unit area on earth: 1,368 W/m2\n",
    "* In 2017, the average annual electricity consumption for a U.S. residential utility customer was 10,399 kilo-watt hours (kWh).\n",
    "* Estimated efficiency of solar thermal power plant: 20%\n",
    "\n",
    "1. What fraction of the Sonoran desert needs to be covered with solar thermal power plants to provide the energy consumption of 50 million residential utility customers? \n",
    "2. How much area is needed in $km^2$? Enter into quiz questions `sun-area`.\n",
    "\n",
    "Use one of the packages discussed in class that is providing unit support. Do not do the work for the unit package, i.e. do not do any unit conversions manually. \n",
    "\n",
    "\n",
    "Note: Power, which is energy per unit time has the unit Watt."
   ]
  },
  {
   "cell_type": "code",
   "execution_count": 36,
   "metadata": {},
   "outputs": [
    {
     "name": "stdout",
     "output_type": "stream",
     "text": [
      "0.0008343879727711739\n",
      "216.9408729205052 km2\n"
     ]
    }
   ],
   "source": [
    "import astropy.units as u\n",
    "\n",
    "area1 = 260000 * u.km**2\n",
    "powerArea = 1368 * u.watt/(u.m**2)\n",
    "powerTime = 10399*10**3 * (u.watt)*(u.hr)\n",
    "powerInput = 50*10**6*(powerTime/ (8760*u.hr))*5\n",
    "\n",
    "areaNeeded = (powerInput/powerArea).to('km**2')\n",
    "fraction = areaNeeded/area1\n",
    "print(fraction)\n",
    "print(areaNeeded)"
   ]
  },
  {
   "cell_type": "markdown",
   "metadata": {},
   "source": [
    "### Activity 2\n",
    "Name: `intercept-noise-data`\n",
    "\n",
    "Copy and paste the following into a code cell to define two arrays\n",
    "\n",
    "\n",
    "```\n",
    "x_noise,y_noise = (array([-1.5  , -1.275, -1.05 , -0.825, -0.6  , -0.375, -0.15 ,  0.075,\n",
    "         0.3  ,  0.525,  0.75 ,  0.975,  1.2  ,  1.425,  1.65 ,  1.875,\n",
    "         2.1  ,  2.325,  2.55 ,  2.775,  3.   ]),\n",
    " array([-1.0099668 ,  0.3322034 ,  1.81796586,  1.64583542,  2.92846064,\n",
    "         2.77085473,  0.90521025,  0.3576988 ,  0.16287582, -1.81826416,\n",
    "        -1.99273992, -4.13833605, -5.66522596, -5.25260809, -6.72657049,\n",
    "        -6.44398528, -6.88801454, -6.2339154 , -5.59783631, -3.86732275,\n",
    "        -1.54614799]))\n",
    "```\n",
    "\n",
    "Find the $x$ coordinate of the inflection point of `y_noise` as a function of `x_noise` by first smoothing the data via spline interpolation and then locating the minimum of the magnitude of the second derivative. Observe the following instructions:\n",
    "* use the SciPy interpolation functions `interpolate.splrep` and `interpolate.splev` \n",
    "* the evaluation array `x_new` should have four times as many points and the same range as `x_noise`\n",
    "* starting with a smoothing parameter `s=0` increase the parameter in increments of `1` until the interpolation only shows one inflection point by visual inspection; adopt that value for `s`\n",
    "* do not use a loop\n",
    "* enter the x value of the `x_new` array where the inflection point of `y_new` is located (do not interpolate in `x_new` to find the sub-grid location) into the quiz `intercept-noise-data`"
   ]
  },
  {
   "cell_type": "code",
   "execution_count": 63,
   "metadata": {},
   "outputs": [
    {
     "name": "stdout",
     "output_type": "stream",
     "text": [
      "x: [0.6686747]\n"
     ]
    },
    {
     "data": {
      "image/png": "[encoded data removed]",
      "text/plain": [
       "<Figure size 432x288 with 1 Axes>"
      ]
     },
     "metadata": {
      "needs_background": "light"
     },
     "output_type": "display_data"
    }
   ],
   "source": [
    "from scipy.interpolate import splev, splrep\n",
    "import numpy as np\n",
    "import matplotlib.pyplot as plt\n",
    "\n",
    "x_noise,y_noise = (np.array([-1.5  , -1.275, -1.05 , -0.825, -0.6  , -0.375, -0.15 ,  0.075,\n",
    "         0.3  ,  0.525,  0.75 ,  0.975,  1.2  ,  1.425,  1.65 ,  1.875,\n",
    "         2.1  ,  2.325,  2.55 ,  2.775,  3.   ]),\n",
    " np.array([-1.0099668 ,  0.3322034 ,  1.81796586,  1.64583542,  2.92846064,\n",
    "         2.77085473,  0.90521025,  0.3576988 ,  0.16287582, -1.81826416,\n",
    "        -1.99273992, -4.13833605, -5.66522596, -5.25260809, -6.72657049,\n",
    "        -6.44398528, -6.88801454, -6.2339154 , -5.59783631, -3.86732275,\n",
    "        -1.54614799]))\n",
    "\n",
    "size = 5\n",
    "spl = splrep(x_noise, y_noise, s=size)\n",
    "x_new = np.linspace(x_noise[0], x_noise[len(x_noise)-1], 4*len(x_noise))\n",
    "y_new = splev(x_new, spl, der=1)\n",
    "ind = np.where(y_new==min(y_new))\n",
    "print('x: {}'.format(x_new[ind]))\n",
    "\n",
    "plt.plot(x_noise, y_noise, '-', x_new, y_new)\n",
    "plt.show()"
   ]
  },
  {
   "cell_type": "code",
   "execution_count": null,
   "metadata": {},
   "outputs": [],
   "source": []
  }
 ],
 "metadata": {
  "kernelspec": {
   "display_name": "Python 3",
   "language": "python",
   "name": "python3"
  },
  "language_info": {
   "codemirror_mode": {
    "name": "ipython",
    "version": 3
   },
   "file_extension": ".py",
   "mimetype": "text/x-python",
   "name": "python",
   "nbconvert_exporter": "python",
   "pygments_lexer": "ipython3",
   "version": "3.6.9"
  },
  "widgets": {
   "application/vnd.jupyter.widget-state+json": {
    "state": {},
    "version_major": 2,
    "version_minor": 0
   }
  }
 },
 "nbformat": 4,
 "nbformat_minor": 4
}

{
 "cells": [
  {
   "cell_type": "markdown",
   "metadata": {},
   "source": [
    "## Lab 2.2\n"
   ]
  },
  {
   "cell_type": "markdown",
   "metadata": {},
   "source": [
    "### Activity 1"
   ]
  },
  {
   "cell_type": "markdown",
   "metadata": {},
   "source": [
    "Name: `parabola_interp`\n",
    "\n",
    "In this activity you are asked to perform the interpolation described in the **Parabola example** in section **Array analysis with Boolen index mask** in today's class notebook. \n",
    "\n",
    "1. Review that section, and copy the code to plot the parabola, and to find the nearest $x$ values where $ y_\\mathrm{f} < -5.2$. This should give you two pairs of points `(x[ind1],y[ind1])` and `x[ind2],y[ind2])`. Revisit the diagram _parabola-interpolation_. \n",
    "2. Calculate $x_\\mathrm{f1}$  by interpolation using the interpolation formula solved for $x_\\mathrm{f1}$.\n",
    "3.  Calculate $x_\\mathrm{f2}$ in the same, taking care of the indexing! \n",
    "\n",
    "Check your answers by zooming into the plot!\n",
    "\n",
    "Take the product $x_\\mathrm{f1} x_\\mathrm{f2}$, and enter it quiz `parabola_interp` on Brigthspace. \n",
    "\n",
    "**Solution:**"
   ]
  },
  {
   "cell_type": "code",
   "execution_count": 9,
   "metadata": {},
   "outputs": [
    {
     "name": "stdout",
     "output_type": "stream",
     "text": [
      "First location:  x1 = 3.00 and y1 = -6.90\n",
      "Second location: x2 = 7.00 and y2 = -8.10\n",
      "2.6792452830188673\n",
      "7.617021276595746\n",
      "20.407868325973503\n"
     ]
    },
    {
     "data": {
      "image/png": "[encoded data removed]",
      "text/plain": [
       "<Figure size 432x288 with 1 Axes>"
      ]
     },
     "metadata": {
      "needs_background": "light"
     },
     "output_type": "display_data"
    }
   ],
   "source": [
    "ifig=3;close(ifig);figure(ifig)\n",
    "x = linspace(1,9,9)   \n",
    "y = x**2-10.3*x+15\n",
    "plot(x,y,'g--o')\n",
    "\n",
    "yFind = -5.2\n",
    "where(y<yFind)[0]\n",
    "\n",
    "ind1 = where(y<yFind)[0][0]\n",
    "ind2 = where(y<yFind)[0][-1]\n",
    "print(\"First location:  x1 = {:.2f} and y1 = {:.2f}\".format(x[ind1],y[ind1]))\n",
    "print(\"Second location: x2 = {:.2f} and y2 = {:.2f}\".format(x[ind2],y[ind2]))\n",
    "x1 = x[ind1-1]\n",
    "x2 = x[ind1]\n",
    "slope = (y[ind1-1]-y[ind1])/(x[ind1-1]-x[ind1])\n",
    "#y = mx+b -> b = y - mx\n",
    "b = y[ind1] - slope*x[ind1]\n",
    "xf = (-5.2 - b)/slope\n",
    "print(xf)\n",
    "\n",
    "x1 = x[ind2]\n",
    "x2 = x[ind2+1]\n",
    "slope = (y[ind2+1]-y[ind2])/(x[ind2+1]-x[ind2])\n",
    "b = y[ind2] - slope*x[ind2]\n",
    "xf2 = (-5.2 - b)/slope\n",
    "print(xf2)\n",
    "print(xf*xf2)"
   ]
  },
  {
   "cell_type": "markdown",
   "metadata": {},
   "source": [
    "### Activity 2\n",
    "\n",
    "#### 2.1"
   ]
  },
  {
   "cell_type": "markdown",
   "metadata": {},
   "source": [
    "Name: `ball_vertical_1p7`, `ball_verical_updown` and `ball_vertical_max`\n",
    "\n",
    "The one-dimensional equation of motion of a ball with an initial velocity $v_\\mathrm{0}$ in the positive direction (up) is given by\n",
    "$$\n",
    "y_\\mathrm{b} = -\\frac{1}{2}gt^2 + v_\\mathrm{0} t \n",
    "$$\n",
    "This equation gives the height of the ball for a given time, which represents the time passed since the ball has been thrown in the upward direction."
   ]
  },
  {
   "cell_type": "markdown",
   "metadata": {},
   "source": [
    "1. Write a code cell that evaluates the mathematical expression for $y_\\mathrm{b}$ for $t = 1.7\\mathrm{s}$ and prints out the result in a formatted print statement `yb = x.yy`. Enter the height into the quiz question `ball_vertical_1p7`.\n",
    "2. Evaluate the expression for 21 equally spaced times from $0$ to $3$ ($t \\in [0.,3.]$, unit of time is s). Save the t and $y_\\mathrm{b}$ values in the arrays `times` and `yb`. Avoid using a loop.\n",
    "3. Make a line plot of $y_\\mathrm{b}(t)$. By looking at your graph determine if the ball is on the way up or down at $t = 1.9\\mathrm{s}$? Enter the answer in quiz question `ball_verical_updown`.\n",
    "4. What is the maximum height the ball reaches according to the evaluation dine in part 2? Enter the value in the quiz `ball_vertical_max`."
   ]
  },
  {
   "cell_type": "markdown",
   "metadata": {},
   "source": [
    "**Variables:**\n",
    "```Python\n",
    "g = 9.81    # m s^-2\n",
    "v0  = 13.4  # m s^-1\n",
    "```"
   ]
  },
  {
   "cell_type": "code",
   "execution_count": 36,
   "metadata": {},
   "outputs": [
    {
     "name": "stdout",
     "output_type": "stream",
     "text": [
      "8.60\n",
      "9.132653061224492\n"
     ]
    },
    {
     "data": {
      "image/png": "[encoded data removed]",
      "text/plain": [
       "<Figure size 432x288 with 1 Axes>"
      ]
     },
     "metadata": {
      "needs_background": "light"
     },
     "output_type": "display_data"
    }
   ],
   "source": [
    "#1 find yb\n",
    "g = 9.81\n",
    "v0 = 13.4\n",
    "t = 1.7\n",
    "yb = (-1/2)*g*(t**2)+v0*t\n",
    "print(\"{:1.2f}\".format(yb))\n",
    "#2\n",
    "ifig=3;close(ifig);figure(ifig)\n",
    "t = linspace(0, 3, 22)\n",
    "y = (-1/2)*g*(t**2)+v0*t\n",
    "plot(t, y, 'g--o')\n",
    "#create time and yb arrays\n",
    "time = where(t <= 3)\n",
    "yb = where(t <= 3)\n",
    "#compute the maximum vertical height\n",
    "print(y.max())"
   ]
  },
  {
   "cell_type": "markdown",
   "metadata": {},
   "source": [
    "#### 2.2\n",
    "Name: `3D-array`\n",
    "\n",
    "Reshape the array \n",
    "```Python\n",
    "array(500*cos(arange(64)), dtype='int')\n",
    "```\n",
    "into a 4x4x4 tensor. Print the tensor and determine what the indices `[n,k,j]` are to access the elements `T[n,k,j]=59` and `336` by using the `where` function. Take the sum of `n,k,j` for both cases (adding in total 6 numbers). \n",
    "\n",
    "Enter the resulting integer number in the quiz."
   ]
  },
  {
   "cell_type": "code",
   "execution_count": 48,
   "metadata": {},
   "outputs": [
    {
     "name": "stdout",
     "output_type": "stream",
     "text": [
      "15\n"
     ]
    }
   ],
   "source": [
    "tensor = array(500*cos(arange(64)), dtype='int')\n",
    "#print(tensor)\n",
    "tensor = tensor.reshape(4, 4, 4)\n",
    "#print(tensor)\n",
    "res1 = where(tensor==59)\n",
    "res2 = where(tensor==336)\n",
    "tot = 0\n",
    "for i in range(3):\n",
    "    tot += res1[i][0] + res2[i][0]\n",
    "print(tot)"
   ]
  },
  {
   "cell_type": "code",
   "execution_count": null,
   "metadata": {},
   "outputs": [],
   "source": []
  }
 ],
 "metadata": {
  "kernelspec": {
   "display_name": "Python 3",
   "language": "python",
   "name": "python3"
  },
  "language_info": {
   "codemirror_mode": {
    "name": "ipython",
    "version": 3
   },
   "file_extension": ".py",
   "mimetype": "text/x-python",
   "name": "python",
   "nbconvert_exporter": "python",
   "pygments_lexer": "ipython3",
   "version": "3.6.9"
  }
 },
 "nbformat": 4,
 "nbformat_minor": 4
}

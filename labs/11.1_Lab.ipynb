{
 "cells": [
  {
   "cell_type": "markdown",
   "metadata": {},
   "source": [
    "## Lab 11.1\n",
    "\n",
    "Remember to commit your lab notebook to your repo once you entered a lab quiz answer.\n",
    "\n",
    "Spread-out over this lab and Assignment 4, and based on the explanations in class 11.1 create a nuclear network code notebook for the CN cycle. \n",
    "\n",
    "In this lab we will focus on a fixed temperature of $T=1.55\\times10^{8}\\mathrm{K}$ and a density of $\\rho = 1 \\mathrm{g/cm^3}$. "
   ]
  },
  {
   "cell_type": "markdown",
   "metadata": {},
   "source": [
    "\n",
    "## Activity 1\n",
    "Name: `initial-abu-sum`, `test-term0`, `test-f_rhs`\n",
    "\n",
    "\n",
    "1. Read initial abundance file `data/iniab1.4E-02As09.ppn`. Make sure you read in such a way that you also have a list of element name strings that is the 2nd column in the file. Enter the sum of the _molar_ fractions into quiz question `initial-abu-sum`.\n",
    "2. A simple `get_rates` function returns the rates for `T9=0.155`: \n",
    "```Python\n",
    "def get_rates():\n",
    "    return [0.0012654285936930718, 0.003997856529541228, 0.0001810499744410427, 7.031858377405542]\n",
    "```\n",
    "Create a function `react_terms` that takes an abundance vector with all 6 abundances as input and returns the four terms that describe the production/reaction for each reaction, for example `rate[0]*Y[2]*Y[0]` for `C12(p,g)`. In order to get the rate vector the function would call `get_rates`. Test the equation and enter `log10` of the first element of what `react_terms` returns (`terms[0]`) into quiz `test-term0`.\n",
    "4. Provide a function `f_rhs` for the RHS of the system of ODEs. The RHS for each of the 6 equations (one for each abundance) are made up of the terms provided by `react_terms`. Test the equation. Enter the in quiz question `test-f_rhs` the `log10` of the term representing the RHS of the equation  for $\\frac{dX(^{12}C)}{dt}$.\n"
   ]
  },
  {
   "cell_type": "code",
   "execution_count": 3,
   "metadata": {},
   "outputs": [
    {
     "name": "stdout",
     "output_type": "stream",
     "text": [
      "Populating the interactive namespace from numpy and matplotlib\n"
     ]
    }
   ],
   "source": [
    "%pylab ipympl"
   ]
  },
  {
   "cell_type": "code",
   "execution_count": 2,
   "metadata": {},
   "outputs": [
    {
     "name": "stdout",
     "output_type": "stream",
     "text": [
      "sum of mole fracion 0.7832111935241673\n",
      "log10 of term[0]: -6.727508741231021\n",
      "log10(dx(C12)/dt): -6.37877467707733\n"
     ]
    }
   ],
   "source": [
    "import numpy as np\n",
    "import math\n",
    "from scipy.integrate import solve_ivp\n",
    "import matplotlib.pyplot as plt\n",
    "\n",
    "numProton, element, sumProtonElec, massFrac = np.loadtxt(\"../Data/iniab1.4E-02As09.ppn\", dtype='str', unpack=True)\n",
    "\n",
    "# sum the mole fraction\n",
    "Y = [float(massFrac[i])/float(sumProtonElec[i]) for i in range(len(massFrac))]\n",
    "print(f\"sum of mole fracion {sum(Y)}\") # mole fraction <=> abundance\n",
    "\n",
    "def get_rates():\n",
    "    return [0.0012654285936930718, 0.003997856529541228, 0.0001810499744410427, 7.031858377405542]\n",
    "\n",
    "def react_terms(Y, rate):\n",
    "    res = []\n",
    "    for i in range(4):\n",
    "        cur = rate[i]*float(Y[0])*float(Y[i+2])\n",
    "        res.append(cur)\n",
    "    return res\n",
    "\n",
    "rate = get_rates()\n",
    "term = react_terms(Y, rate)\n",
    "print(f\"log10 of term[0]: {np.log10(term[0])}\")\n",
    "\n",
    "def f_rhs(Y, rate, term):\n",
    "    rhs = [-term[0]-term[1]-term[2]-term[3],\n",
    "            term[3],\n",
    "            -term[0]+term[3], \n",
    "            term[0]-term[1],\n",
    "            term[1]-term[2],\n",
    "            term[2]-term[3],]\n",
    "    return rhs\n",
    "\n",
    "print(f\"log10(dx(C12)/dt): {math.log10(f_rhs(Y, rate, term)[2])}\")"
   ]
  },
  {
   "cell_type": "markdown",
   "metadata": {},
   "source": [
    "## Activity 2\n",
    "\n",
    "Names: `N14-time-scale`, `C13-412`\n",
    "\n",
    "\n",
    "\n",
    "5. To get an idea of the time scale of the problem calculate $\\tau_\\mathrm{p} = \\frac{1}{r_2 Y(p) \\rho}$, which is the time scale of $^{14}N$ against capture of protons. Using the values as given this time is in units of seconds. Enter the time in quiz question `N14-time-scale` \n",
    "6. From the data in the initial abundance file create a list of element names with mass numbers for the species from the data in the initial abundance file, e.g. `c13` for the C isotope with mass $A=13$.\n",
    "7. Using the utilities created in part 1. to 6. solve the network ODEs using `solve_ivp` for $t\\in[0.,2000.]$ for $\\rho$, $T$ specified above. **Important:** This set of differential equations is _stiff_ and you need to select a solver that can deal with stiff problems. Check the docstring! Also, make sure you require high enough precision so that the integration is numerically converged. Make a plot of the time evolution of all six species. Plot `log(X)` where `X` is the mass fraction of each species, versus time in seconds. All lines should be in the same plot, and each line needs to have different shape, colour and glyph. Place glyphs at appropriate distances so that they help distinguish the species but do not overcrowd the plot. Use the element labels created in 6. as legend labels.\n",
    "8. Create a linear interpolation for the C13 mass fraction (you may use a library) as a function of time and evaluate that interpolation at $t = 412.1$. What is the C13 mass fraction at that time? Enter the `log10` of that abundance into quiz `C13-412`."
   ]
  },
  {
   "cell_type": "code",
   "execution_count": 11,
   "metadata": {},
   "outputs": [
    {
     "name": "stdout",
     "output_type": "stream",
     "text": [
      "Time constant: 7720.782071364084\n"
     ]
    },
    {
     "data": {
      "image/png": "[encoded data removed]",
      "text/plain": [
       "<Figure size 432x288 with 1 Axes>"
      ]
     },
     "metadata": {
      "needs_background": "light"
     },
     "output_type": "display_data"
    },
    {
     "name": "stdout",
     "output_type": "stream",
     "text": [
      "log(C13): -3.0008948319120887\n"
     ]
    }
   ],
   "source": [
    "# part 5\n",
    "timeCons = 1/(rate[2]*Y[0])\n",
    "print(f'Time constant: {timeCons}')\n",
    "\n",
    "# solve ode\n",
    "t = np.linspace(0, 2000, 1001)\n",
    "func = lambda t, Y: f_rhs(Y, rate, term)\n",
    "ode = solve_ivp(func, t_span=(0, 2000), y0=Y, method=\"Radau\", t_eval=t)\n",
    "\n",
    "plt.title('time evolution of C13')\n",
    "plt.ylabel('log(X) where X = mass fraction')\n",
    "plt.xlabel('time')\n",
    "plt.plot(ode.t, np.log10(ode.y[3]*13))\n",
    "plt.show()\n",
    "\n",
    "res = np.interp(412.1, ode.t, ode.y[3]*13)\n",
    "print(f'log(C13): {np.log10(res)}')"
   ]
  },
  {
   "cell_type": "code",
   "execution_count": 10,
   "metadata": {},
   "outputs": [],
   "source": [
    "#solve_ivp?"
   ]
  }
 ],
 "metadata": {
  "kernelspec": {
   "display_name": "Python 3",
   "language": "python",
   "name": "python3"
  },
  "language_info": {
   "codemirror_mode": {
    "name": "ipython",
    "version": 3
   },
   "file_extension": ".py",
   "mimetype": "text/x-python",
   "name": "python",
   "nbconvert_exporter": "python",
   "pygments_lexer": "ipython3",
   "version": "3.6.9"
  },
  "widgets": {
   "application/vnd.jupyter.widget-state+json": {
    "state": {},
    "version_major": 2,
    "version_minor": 0
   }
  }
 },
 "nbformat": 4,
 "nbformat_minor": 4
}

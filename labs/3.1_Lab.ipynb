{
 "cells": [
  {
   "cell_type": "markdown",
   "metadata": {},
   "source": [
    "## Lab 3.1\n",
    "\n",
    "Note Activity 3 at the end! "
   ]
  },
  {
   "cell_type": "markdown",
   "metadata": {},
   "source": [
    "### Activity 1 \n",
    "Name: `qwerty-string-slicing`\n",
    "\n",
    "1. Create new variables `a` and `b` that store the strings 'qwertyu' and 'asdfghj'\n",
    "2. Create a new variable `c` that contains the string consisting of the first three characters of `a` and the last four characters of `b` using only slicing and string addition on the two previous variables.\n",
    "\n",
    "Create the 3-character string that consists of the 4th character in each of the three strings `a, b, c` in that order. (Remember that Python indexing starts with 0 for the first item.) Enter this string into the quiz.\n",
    "\n",
    "**Solution:**"
   ]
  },
  {
   "cell_type": "code",
   "execution_count": 7,
   "metadata": {},
   "outputs": [
    {
     "name": "stdout",
     "output_type": "stream",
     "text": [
      "rff\n"
     ]
    }
   ],
   "source": [
    "a='qwertyu'\n",
    "b='asdfghj'\n",
    "c=a[0:3]+b[3:]\n",
    "d=a[3:4]+b[3:4]+c[3:4]\n",
    "print(d)"
   ]
  },
  {
   "cell_type": "markdown",
   "metadata": {
    "tags": []
   },
   "source": [
    "## Activity 2\n",
    "This activity has two parts. Answer two questions in quiz.\n",
    "\n",
    "Name: `string-slice-can`\n",
    "\n",
    "```python\n",
    "q=[['a','b','C'], ['a','e','f'], ['g',['n','G']]]\n",
    "```\n",
    "What is the python code involving the addition of slices of `q` that produces from this list `q` the string \"Can\"? Enter that code into the quiz (no spaces!).\n",
    "\n",
    "**Solution:**"
   ]
  },
  {
   "cell_type": "code",
   "execution_count": 10,
   "metadata": {},
   "outputs": [
    {
     "name": "stdout",
     "output_type": "stream",
     "text": [
      "Can\n"
     ]
    }
   ],
   "source": [
    "q=[['a','b','C'], ['a','e','f'], ['g',['n','G']]]\n",
    "res = q[0][2]+q[1][0]+q[2][1][0]\n",
    "print(res)"
   ]
  },
  {
   "cell_type": "markdown",
   "metadata": {},
   "source": [
    "Name: `geometric-series`\n",
    "\n",
    "1. Use a Markdown cell and write [geometric series](https://en.wikipedia.org/wiki/Geometric_series) using the sumation symbol using Latex as discussed in class.\n",
    "2. Calculate the product of the sum and the median of the first 10 terms of the geometric series ($k \\in [0,...9]$) with constant ratio $r=0.9$ and coefficent $a = 0.5$. Enter this answer into the quiz on Brighspace.\n",
    "3. As additional practice: Print your answer formatted in the following way: `Product = n.dddd` where `n.dddd` is the numerical answer with four decimal places. \n",
    "\n",
    "\n",
    "**Solution:**"
   ]
  },
  {
   "cell_type": "markdown",
   "metadata": {},
   "source": [
    "$\\sum_{n=0}^{9} 0.5\\times 0.9^{n}$"
   ]
  },
  {
   "cell_type": "code",
   "execution_count": 20,
   "metadata": {},
   "outputs": [
    {
     "name": "stdout",
     "output_type": "stream",
     "text": [
      "[0.5        0.45       0.405      0.3645     0.32805    0.295245\n",
      " 0.2657205  0.23914845 0.21523361 0.19371024]\n",
      "3.2566077995000002\n",
      "1.0149136791946765\n"
     ]
    }
   ],
   "source": [
    "import numpy\n",
    "aTerm = numpy.array([0.5]*10)\n",
    "rTerm = numpy.array([0.9]*10)\n",
    "kTerm = numpy.arange(10)\n",
    "\n",
    "res = aTerm*(rTerm**kTerm)\n",
    "total = res.sum()\n",
    "median = (res[4]+res[5])/2\n",
    "print(res)\n",
    "print(total)\n",
    "print(total*median)"
   ]
  },
  {
   "cell_type": "markdown",
   "metadata": {},
   "source": [
    "## Activity 3\n",
    "Name: `academic-integrity`\n",
    "\n",
    "The quiz for this lab is open until Thursday 9:30am.\n",
    "\n",
    "You cannot continue this class if you have not completed this activity. \n",
    "\n",
    "Review the [University Policies](https://bright.uvic.ca/d2l/le/content/57050/viewContent/855995/View) module, specifically the section _Academic Integrety_. Join the Integrity Matters course here: https://bright.uvic.ca/d2l/le/discovery/view/course/83891 and review the course material. \n",
    "\n",
    "\n",
    "**Brightspace assignment Lab 3.1 Activity 3:**\n",
    "\n",
    "Complete the quiz. "
   ]
  },
  {
   "cell_type": "code",
   "execution_count": null,
   "metadata": {},
   "outputs": [],
   "source": []
  },
  {
   "cell_type": "code",
   "execution_count": null,
   "metadata": {},
   "outputs": [],
   "source": []
  }
 ],
 "metadata": {
  "kernelspec": {
   "display_name": "Python 3",
   "language": "python",
   "name": "python3"
  },
  "language_info": {
   "codemirror_mode": {
    "name": "ipython",
    "version": 3
   },
   "file_extension": ".py",
   "mimetype": "text/x-python",
   "name": "python",
   "nbconvert_exporter": "python",
   "pygments_lexer": "ipython3",
   "version": "3.6.9"
  },
  "widgets": {
   "application/vnd.jupyter.widget-state+json": {
    "state": {},
    "version_major": 2,
    "version_minor": 0
   }
  }
 },
 "nbformat": 4,
 "nbformat_minor": 4
}

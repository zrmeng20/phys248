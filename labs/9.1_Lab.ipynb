{
 "cells": [
  {
   "cell_type": "markdown",
   "metadata": {},
   "source": [
    "## Lab 9.1\n",
    "\n",
    "Don't forget to push the notebook to your repo when you submit an answer to the quiz.\n"
   ]
  },
  {
   "cell_type": "markdown",
   "metadata": {},
   "source": [
    "### Activity 1\n",
    "Name: `circuit_resistors`\n",
    "\n",
    "Complete this activity before the end of the lab by entering the answer into the Brightspace quiz. \n",
    "\n",
    "Given the equations for the voltage difference at each junction point for the circuit of resistors discussed in class:\n",
    "* Simplify and sort the set of equations presented in class for the voltages.\n",
    "* Setup coefficient matrix $A$ and RHS vector $\\vec{c}$.\n",
    "* Use an appropriate numpy library to solve the same set of equations for $\\vec{V} = (V_1, V_2, V_3, V_4)$. What is the sum if the voltages at the four junction points $V_\\mathrm{sum} = \\sum_{i=1}^{4}V_i$? Enter the answer into quiz `circuit_resistors`."
   ]
  },
  {
   "cell_type": "code",
   "execution_count": 51,
   "metadata": {},
   "outputs": [
    {
     "name": "stdout",
     "output_type": "stream",
     "text": [
      "[[ 4 -1 -1 -1]\n",
      " [-1  3  0 -1]\n",
      " [-1  0  3 -1]\n",
      " [-1 -1 -1  4]]\n",
      "solutions of v1 - v4: \n",
      "v1 = 2.0 v2 = 1.6666666666666665 v3 = 3.3333333333333335 v4 = 3.0\n",
      "sum of v1 - v4: 10.0\n"
     ]
    }
   ],
   "source": [
    "import numpy as np\n",
    "import sys\n",
    "\n",
    "a = np.matrix([[4, -1, -1, -1], [-1, 3, 0, -1], [-1, 0, 3, -1], [-1, -1, -1, 4]])\n",
    "c = np.array([0, 0, 5, 5])\n",
    "print(a)\n",
    "\n",
    "x = np.linalg.solve(a, c)\n",
    "\n",
    "print(f'solutions of v1 - v4: \\nv1 = {x[0]} v2 = {x[1]} v3 = {x[2]} v4 = {x[3]}')\n",
    "print(f'sum of v1 - v4: {x.sum()}')"
   ]
  },
  {
   "cell_type": "markdown",
   "metadata": {},
   "source": [
    "### Activity 2\n",
    "Name: `sheared-cube`\n",
    "\n",
    "Finish by Monday 9:30am. \n",
    "\n"
   ]
  },
  {
   "cell_type": "markdown",
   "metadata": {},
   "source": [
    "1. Create a data set of points in 2D that constitute the outline of a square. Do this in the following way:\n",
    "    * Create one set of 10 points that lie on the x-axis (y=0) for 𝑥∈[0,1]\n",
    "    * Now use the rotation transformation to create the perpendicular point set that lies on the y-axis.\n",
    "    * Create the two missing point sets by just shifting each of the already existing points by 1 in the appropriate way.\n",
    "2. Make a plot of the square and give points belonging to each side a different color and symbol. Connect each set of points with different types of broken lines.\n",
    "3. Apply the horizontal shear transformation to your square with a shear parameter $m=5$. Plot the transformed point set.\n",
    "4. Determine the max x coordinate of any point of the sheared square and enter into `sheared-cube`."
   ]
  },
  {
   "cell_type": "code",
   "execution_count": 48,
   "metadata": {},
   "outputs": [
    {
     "data": {
      "image/png": "[encoded data removed]",
      "text/plain": [
       "<Figure size 432x288 with 1 Axes>"
      ]
     },
     "metadata": {
      "needs_background": "light"
     },
     "output_type": "display_data"
    },
    {
     "data": {
      "image/png": "[encoded data removed]",
      "text/plain": [
       "<Figure size 432x288 with 1 Axes>"
      ]
     },
     "metadata": {
      "needs_background": "light"
     },
     "output_type": "display_data"
    },
    {
     "name": "stdout",
     "output_type": "stream",
     "text": [
      "Max x coordinate of any point of the sheared square: [6.0, 1.0]\n"
     ]
    }
   ],
   "source": [
    "import numpy as np\n",
    "import matplotlib.pyplot as plt\n",
    "\n",
    "# create 10 points\n",
    "x1 = []\n",
    "for i in np.linspace(0, 1, 10):\n",
    "    x1.append([i, 0])\n",
    "\n",
    "rotation90 = np.array([[0, -1], [1, 0]])\n",
    "# counter clockwise rotation\n",
    "y1 = []\n",
    "for i in range(10):\n",
    "    y1.append(rotation90.dot(x1[i]))\n",
    "\n",
    "# create the rest point set   \n",
    "y2 = []\n",
    "x2 = []\n",
    "for i in range(10):\n",
    "    y2.append([y1[i][0]+1, y1[i][1]])\n",
    "    x2.append([x1[i][0], x1[i][1]+1])\n",
    "\n",
    "# make a plot\n",
    "plt.title('plot of the square')\n",
    "plt.plot(np.array(x1).T[0], np.array(x1).T[1], '--', label='y=0')\n",
    "plt.plot(np.array(y1).T[0], np.array(y1).T[1], '-.', label='x=0')\n",
    "plt.plot(np.array(x2).T[0], np.array(x2).T[1], ':', label='y=1')\n",
    "plt.plot(np.array(y2).T[0], np.array(y2).T[1], '.', label='x=1')\n",
    "plt.legend()\n",
    "plt.show()\n",
    "\n",
    "# horizontal shear transformation\n",
    "xnew2 = []\n",
    "ynew1 = []\n",
    "ynew2 = []\n",
    "shear = np.array([[1, 5], [0, 1]])\n",
    "for i in range(10):\n",
    "    xnew2.append(list(shear.dot(x2[i])))\n",
    "    ynew1.append(list(shear.dot(y1[i])))\n",
    "    ynew2.append(list(shear.dot(y2[i])))\n",
    "\n",
    "# make a plot\n",
    "plt.title('sheared cube')\n",
    "plt.plot(np.array(x1).T[0], np.array(x1).T[1], '-')\n",
    "plt.plot(np.array(ynew1).T[0], np.array(ynew1).T[1], '-')\n",
    "plt.plot(np.array(xnew2).T[0], np.array(xnew2).T[1], '-')\n",
    "plt.plot(np.array(ynew2).T[0], np.array(ynew2).T[1], '-')\n",
    "plt.show()\n",
    "\n",
    "# find max x coordinate\n",
    "print(f'Max x coordinate of any point of the sheared square: {max(xnew2)}')"
   ]
  }
 ],
 "metadata": {
  "kernelspec": {
   "display_name": "Python 3",
   "language": "python",
   "name": "python3"
  },
  "language_info": {
   "codemirror_mode": {
    "name": "ipython",
    "version": 3
   },
   "file_extension": ".py",
   "mimetype": "text/x-python",
   "name": "python",
   "nbconvert_exporter": "python",
   "pygments_lexer": "ipython3",
   "version": "3.6.9"
  },
  "widgets": {
   "application/vnd.jupyter.widget-state+json": {
    "state": {},
    "version_major": 2,
    "version_minor": 0
   }
  }
 },
 "nbformat": 4,
 "nbformat_minor": 4
}

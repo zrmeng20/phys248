{
 "cells": [
  {
   "cell_type": "markdown",
   "metadata": {},
   "source": [
    "\n",
    "## Lab 3.2\n",
    "\n",
    "### Activity 1 \n",
    "**Name:** `string-counting`\n",
    "\n",
    "The list `string` is defined as follows:\n",
    "\n",
    "```Python\n",
    "strings = ['a', 'bcd', 'efgahij','klm','noprqrst','uvwx','yz']\n",
    "```\n",
    "\n",
    "* Write a `for` loop that prints the length of each string in `strings`. \n",
    "* Create a list called `line_length` that contains as its elements the length of each string. Use list comprehension. Recall the general structure of list comprehension: `[statement_on_item for item in list]`\n",
    "* Calculate the total number of characters in all list elements. **Hint:** turn the just created list into an array and then proceed. Enter this number into the quiz.\n"
   ]
  },
  {
   "cell_type": "code",
   "execution_count": 1,
   "metadata": {},
   "outputs": [
    {
     "name": "stdout",
     "output_type": "stream",
     "text": [
      "28\n"
     ]
    }
   ],
   "source": [
    "import numpy as np\n",
    "line_length = []\n",
    "strings = ['a', 'bcd', 'efgahij','klm','noprqrst','uvwx','yz']\n",
    "for i in strings:\n",
    "    line_length.append(len(i))\n",
    "array = np.array(line_length)\n",
    "print(array.sum())"
   ]
  },
  {
   "cell_type": "markdown",
   "metadata": {
    "tags": []
   },
   "source": [
    "## Activity 2\n",
    "\n",
    "Name: `geometric-series-converge`\n",
    "\n",
    "The [geometric series](https://en.wikipedia.org/wiki/Geometric_series)  $\\sum_{k=0}^\\infty ar^k$ is a series with a constant ratio between successive terms.  For $|r|<1$ it converges to $\\frac{a}{1-r}$.\n",
    "* For `a=2` and `r=0.5` calculate the sum of the elements for $k\\in[0, 1, 2, 3]$ using the variables `a` and `r`.\n",
    "* Calculate to which value the the series converges for these parameters $a$ and $r$. Save the value in the variable `sum_cf`.\n",
    "* Write a `for` loop which evaluates in each iteration the sum `sum_val` up to a value $k$ that increases in each iteration of the loop by 1. Calculate if `sum_val` differs from `sum_cf` by less than `eps=1.e-5`. Enter the $k$ for which this is true into the quiz.\n",
    "\n",
    "\n",
    "**Solution:**"
   ]
  },
  {
   "cell_type": "code",
   "execution_count": null,
   "metadata": {},
   "outputs": [
    {
     "name": "stdout",
     "output_type": "stream",
     "text": [
      "18\n",
      "19\n"
     ]
    }
   ],
   "source": [
    "a = 2\n",
    "r = 0.5\n",
    "sum_cd = a/(1-r)\n",
    "sum_val = 0\n",
    "for i in range(20):\n",
    "    sum_val += a*(r**i)\n",
    "    if(sum_cd-sum_val < 0.00001):\n",
    "        print(i)"
   ]
  },
  {
   "cell_type": "code",
   "execution_count": null,
   "metadata": {},
   "outputs": [],
   "source": []
  }
 ],
 "metadata": {
  "kernelspec": {
   "display_name": "Python 3",
   "language": "python",
   "name": "python3"
  },
  "language_info": {
   "codemirror_mode": {
    "name": "ipython",
    "version": 3
   },
   "file_extension": ".py",
   "mimetype": "text/x-python",
   "name": "python",
   "nbconvert_exporter": "python",
   "pygments_lexer": "ipython3",
   "version": "3.6.9"
  }
 },
 "nbformat": 4,
 "nbformat_minor": 4
}

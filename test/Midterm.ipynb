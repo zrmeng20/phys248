{
 "cells": [
  {
   "cell_type": "markdown",
   "id": "associate-demonstration",
   "metadata": {},
   "source": [
    "# Midterm PHYS248\n",
    "\n",
    "Mar 3, 2022\n",
    "\n",
    "---\n",
    "This is an _open-internet_ exam. You are not allowed to communicate through any means with anybody during the exam. If you use code fragments from a resource on the internet make it clear what the source is in a comment line. If you use code from your own repository also make it clear from where exactly the code comes that you are using.\n",
    "\n",
    "Copy this notebook to your own `phys248` repository into your `Exam-Assignment-Quiz` folder and add/commit to your repository. Answer all questions in this (your copy of the) notebook.  Once you have initial and partial results do commit and push to the remote. Do that frequently so that you do not enter into a crunch at the end. The deadline will be 12:50pm sharp, and any changes after that will be ignored. For students with accommodation their deadline is extended accordingly.\n",
    "\n",
    "At the end make sure that all cells in your notebook execute correctly by restarting the kernel and running the notebook one more time from beginning to end. \n",
    "\n",
    "---"
   ]
  },
  {
   "cell_type": "code",
   "execution_count": 1,
   "id": "checked-trustee",
   "metadata": {},
   "outputs": [
    {
     "name": "stdout",
     "output_type": "stream",
     "text": [
      "Populating the interactive namespace from numpy and matplotlib\n"
     ]
    }
   ],
   "source": [
    "%pylab ipympl"
   ]
  },
  {
   "cell_type": "markdown",
   "id": "destroyed-parker",
   "metadata": {
    "tags": []
   },
   "source": [
    "## Problem 1\n",
    "### 1.1\n",
    "The list `string` is defined as follows:\n",
    "```Python\n",
    "strings = ['ap', 'bcd', ['efgaCij','klm'],'noprqrst','uvwx','yhz']\n",
    "```\n",
    "If an index combination exists for a given letter it will return that letter when used to slice the list `strings`. For example, the index compination 0,1 returns the letter `b`. Write a code cell that will find and print all index combinations of `strings` for all characters in the target word _metaphorical_. Each answer line starts with the respective character of the target word. For example, the correct first line for this answer looks like this:\n",
    "```\n",
    "m 2 1 2\n",
    "```\n",
    "Test your answer by using the index pairs or triples found to create the letters of the target word, e.g. _m_ is `strings[2][1][2]`."
   ]
  },
  {
   "cell_type": "code",
   "execution_count": 6,
   "id": "47f4c2cd-6fba-4490-b5cb-ad6f2d596138",
   "metadata": {},
   "outputs": [
    {
     "name": "stdout",
     "output_type": "stream",
     "text": [
      "[['m', 2, 1, 2], ['e', 2, 0, 0], ['t', 3, 7], ['a', 0, 0, 2, 0, 3], ['p', 0, 1, 3, 2], ['h', 5, 1], ['o', 3, 1], ['r', 3, 3, 3, 5], ['i', 2, 0, 5], ['c', 1, 1], ['a', 0, 0, 2, 0, 3], ['l', 2, 1, 1]]\n"
     ]
    }
   ],
   "source": [
    "strings = ['ap', 'bcd', ['efgaCij','klm'],'noprqrst','uvwx','yhz']\n",
    "word = 'metaphorical'\n",
    "res = []\n",
    "\n",
    "for l in word:\n",
    "    ls = [l]\n",
    "    for i in range(len(strings)):\n",
    "        if type(strings[i])==str:\n",
    "            for j in range(len(strings[i])):\n",
    "                if strings[i][j] == l:\n",
    "                    ls.append(i)\n",
    "                    ls.append(j)\n",
    "        else:\n",
    "            for j in range(len(strings[i])):\n",
    "                for k in range(len(strings[i][j])):\n",
    "                    if strings[i][j][k] == l:\n",
    "                        ls.append(i)\n",
    "                        ls.append(j)\n",
    "                        ls.append(k)\n",
    "    res.append(ls)\n",
    "print(res)\n"
   ]
  },
  {
   "cell_type": "markdown",
   "id": "valid-fight",
   "metadata": {},
   "source": [
    "### 1.2\n",
    "Add the bash commands needed to solve each of the tasks below into a code cell that starts with the magic command `%%bash`. You. may want to find those command by working on the terminal first. \n",
    "\n",
    "1. Download the _INTRODUCTION TO THE METAPHYSIC OF MORALS_ by Immanuel Kant which can be found at this location, `http://www.textfiles.com/etext/AUTHORS/KANT/i-m_of_m.txt` using the appropriate terminal command. \n",
    "2. Find all lines that contain the string `moral` and save them in the file `moral.txt`.\n",
    "3. Use a combination of the `head` and `tail` command to print the 7th line of the file `moral.txt`.\n",
    "4. Using shell commands determine how many words are on all lines combined that contain the string _moral_ in the file `i-m_of_m.txt`.\n",
    "5. Replace in the file `moral.txt` all occurrences of the string `moral` with the string `mortal` and save this change to a file with the name `mortal.txt`."
   ]
  },
  {
   "cell_type": "code",
   "execution_count": null,
   "id": "47e6f507-f23b-417a-aca1-aa4bcfdb38ec",
   "metadata": {},
   "outputs": [],
   "source": [
    "wget http://www.textfiles.com/etext/AUTHORS/KANT/i-m_of_m.txt\n",
    "grep moral i-m_of_m.txt > moral.txt\n",
    "head -7 moral.txt | tail -1\n",
    "grep moral i-m_of_m.txt | wc -c\n",
    "sed moral mortal > mortal.txt"
   ]
  },
  {
   "cell_type": "markdown",
   "id": "encouraging-juice",
   "metadata": {},
   "source": [
    "### 1.3\n",
    "\n",
    "You are given a list of fruit `list_of_fruit = ['pear','aubergine','tomato','orange']` and an index list `ind = [2,1,0,0]`. Create an empty string `name` and then, using `zip` add for each pair-wise entries of `list_of_fruit` and `ind` the character of the fruit indicated by the index in `ind`. What is the resulting name?\n"
   ]
  },
  {
   "cell_type": "code",
   "execution_count": 4,
   "id": "727bb651-096f-4e2a-8a9b-dd3a13f35dfb",
   "metadata": {},
   "outputs": [
    {
     "name": "stdout",
     "output_type": "stream",
     "text": [
      "resulting name: auto\n"
     ]
    }
   ],
   "source": [
    "list_of_fruit = ['pear','aubergine','tomato','orange']\n",
    "ind = [2,1,0,0]\n",
    "name = ''\n",
    "for i, j in zip(list_of_fruit, ind):\n",
    "    name+=i[j]\n",
    "print('resulting name: {}'.format(name))"
   ]
  },
  {
   "cell_type": "markdown",
   "id": "330bf5e7-635a-4821-a044-049d81e649ea",
   "metadata": {},
   "source": [
    "## Problem 2\n",
    "The binomial coefficient \n",
    "$$\n",
    "{{N}\\choose{k}}  =  \\frac{N!}{(N-k)! k!}\n",
    "$$ \n",
    "is the number of ways of picking $k$ unordered outcomes from $N$ possibilities, for non-negative integers and $0\\leq k \\leq N$ and \n",
    "$$\n",
    "{{N}\\choose{k}} = 0 \n",
    "$$\n",
    "otherwise. $k!$ is the factorial:  $k! = k (k-1) (k-2) \\dots 2 \\cdot 1$ and 0! = 1."
   ]
  },
  {
   "cell_type": "markdown",
   "id": "5ecb7906-84bf-4796-9331-146dee31d3aa",
   "metadata": {},
   "source": [
    "### 2.1 \n",
    "\n",
    "Write a function called `my_factorial` that takes an integer number as input and returns the factorial. Check that the function works by comparing its output with that of the `factorial` function from the `math` module. "
   ]
  },
  {
   "cell_type": "code",
   "execution_count": 9,
   "id": "da6a9e63-50a1-4096-995e-3815874b0449",
   "metadata": {},
   "outputs": [
    {
     "name": "stdout",
     "output_type": "stream",
     "text": [
      "120\n"
     ]
    },
    {
     "data": {
      "text/plain": [
       "120"
      ]
     },
     "execution_count": 9,
     "metadata": {},
     "output_type": "execute_result"
    }
   ],
   "source": [
    "import math\n",
    "\n",
    "def my_factorial(n):\n",
    "    if n == 0:\n",
    "        return 1\n",
    "    res = 1\n",
    "    for i in range(1, n+1):\n",
    "        res *= i\n",
    "    return res\n",
    "\n",
    "# factorial computation using user defined function\n",
    "print(my_factorial(5))\n",
    "# comparison with math module\n",
    "math.factorial(5)"
   ]
  },
  {
   "cell_type": "markdown",
   "id": "2a70c62f-7f19-4eed-ba67-40082234c3c9",
   "metadata": {},
   "source": [
    "### 2.2 \n",
    "\n",
    "Write a function `my_binomial` that takes $N$ and $k$ as input and returns the binomial coefficient. You would pass the function `my_factorial` as an optional function argument, like this: \n",
    "\n",
    "```Python\n",
    "def my_binomial(n,k,factorial=my_factorial):\n",
    "```\n",
    "\n",
    "Find a library implementation of the binomial coefficient and use that to verify your function."
   ]
  },
  {
   "cell_type": "code",
   "execution_count": 16,
   "id": "adc35e08-97e6-4932-86e4-d13469dd0189",
   "metadata": {},
   "outputs": [
    {
     "name": "stdout",
     "output_type": "stream",
     "text": [
      "Binomial coefficient: 10.0\n",
      "Binomial coefficient using math library: 10.0\n"
     ]
    }
   ],
   "source": [
    "import math\n",
    "\n",
    "def my_factorial(n):\n",
    "    res = 1\n",
    "    for i in range(1, n+1):\n",
    "        res *= i\n",
    "    return res\n",
    "\n",
    "def my_binomial(n,k,factorial=my_factorial):\n",
    "    numerator = my_factorial(n)\n",
    "    denominator = my_factorial(n-k)*my_factorial(k)\n",
    "    return numerator/denominator\n",
    "# computation using user defined function\n",
    "print('Binomial coefficient: {}'.format(my_binomial(5, 3, my_factorial)))\n",
    "# using library to verify the function\n",
    "print('Binomial coefficient using math library: {}'.format(math.factorial(5)/(math.factorial(2)*math.factorial(3))))"
   ]
  },
  {
   "cell_type": "markdown",
   "id": "4fca312b-f9d1-46ad-81f3-31403f7c0959",
   "metadata": {},
   "source": [
    "### 2.3\n",
    "\n",
    "Evaluate the binomial coefficient for $N \\in [0 \\dots 10]$ and $k \\in [0 \\dots 10]$. Store the values in a variable named `z`."
   ]
  },
  {
   "cell_type": "code",
   "execution_count": 63,
   "id": "0bf6114c-d7cb-42eb-b1b6-7d2582d9878a",
   "metadata": {},
   "outputs": [
    {
     "name": "stdout",
     "output_type": "stream",
     "text": [
      "[1.0, 1.0, 1.0, 1.0, 2.0, 1.0, 1.0, 3.0, 3.0, 1.0, 1.0, 4.0, 6.0, 4.0, 1.0, 1.0, 5.0, 10.0, 10.0, 5.0, 1.0, 1.0, 6.0, 15.0, 20.0, 15.0, 6.0, 1.0, 1.0, 7.0, 21.0, 35.0, 35.0, 21.0, 7.0, 1.0, 1.0, 8.0, 28.0, 56.0, 70.0, 56.0, 28.0, 8.0, 1.0, 1.0, 9.0, 36.0, 84.0, 126.0, 126.0, 84.0, 36.0, 9.0, 1.0, 1.0, 10.0, 45.0, 120.0, 210.0, 252.0, 210.0, 120.0, 45.0, 10.0, 1.0]\n"
     ]
    }
   ],
   "source": [
    "z = []\n",
    "\n",
    "def my_factorial(n):\n",
    "    res = 1\n",
    "    for i in range(1, n+1):\n",
    "        res *= i\n",
    "    return res\n",
    "\n",
    "def my_binomial(n,k,factorial=my_factorial):\n",
    "    numerator = my_factorial(n)\n",
    "    denominator = my_factorial(n-k)*my_factorial(k)\n",
    "    return numerator/denominator\n",
    "\n",
    "for i in range(11):\n",
    "    for j in range(i+1):\n",
    "        z.append(my_binomial(i, j, my_factorial))\n",
    "print(z)"
   ]
  },
  {
   "cell_type": "markdown",
   "id": "f367872a-b1a3-4233-9372-c68492ab91f4",
   "metadata": {},
   "source": [
    "### 2.4 \n",
    "Make a 2D heatmap using `imshow` of $\\sqrt{z}$ with respect to both $N$ and $k$. Then, do the same with a `contour` plot."
   ]
  },
  {
   "cell_type": "code",
   "execution_count": 67,
   "id": "e9e499fc-f603-453a-be6b-d7817cf2dbd9",
   "metadata": {},
   "outputs": [],
   "source": [
    "from PIL import Image as im\n",
    "import matplotlib.pyplot as plt\n",
    "import numpy as np\n",
    "z = []\n",
    "def my_factorial(n):\n",
    "    res = 1\n",
    "    for i in range(1, n+1):\n",
    "        res *= i\n",
    "    return res\n",
    "\n",
    "def my_binomial(n,k,factorial=my_factorial):\n",
    "    numerator = my_factorial(n)\n",
    "    denominator = my_factorial(n-k)*my_factorial(k)\n",
    "    return numerator/denominator\n",
    "\n",
    "for i in range(11):\n",
    "    for j in range(i+1):\n",
    "        z.append(my_binomial(i, j, my_factorial))\n",
    "z = np.array(z)\n",
    "z = np.sqrt(z)\n",
    "n = np.linspace(1, 10, 10)\n",
    "k = n\n",
    "X, Y = np.meshgrid(n, k)\n",
    "    \n",
    "#plt.contour(X, Y, z)\n",
    "#plt.title('contour plot')\n",
    "#plt.show()"
   ]
  },
  {
   "cell_type": "markdown",
   "id": "8120c8a0-3379-4d2b-8da6-9c43bf970847",
   "metadata": {},
   "source": [
    "## Problem 3\n",
    "\n",
    "The one-dimensional equation of motion of a ball with an initial velocity $v_\\mathrm{0}$ in the positive direction (up) is given by\n",
    "$$\n",
    "y_\\mathrm{b} = -\\frac{1}{2}gt^2 + v_\\mathrm{0} t \n",
    "$$\n",
    "This equation gives the height of the ball for a given time, which represents the time passed since the ball has been thrown in the upward direction.\n",
    "\n",
    "**Variables:**\n",
    "```Python\n",
    "g = 9.81    # m s^-2\n",
    "v0  = 13.4  # m s^-1\n",
    "```\n",
    "\n",
    "### 3.1\n",
    "Write a code cell that evaluates the mathematical expression for $y_\\mathrm{b}$ for 61 equally spaced times from $0$ to $3$ ($t \\in [0.,3.]$, unit of time is s). Save the t and $y_\\mathrm{b}$ values in the arrays `times` and `yb`. Avoid using a loop."
   ]
  },
  {
   "cell_type": "code",
   "execution_count": 21,
   "id": "1eae3489-e2d6-4de7-8b77-c31f417be102",
   "metadata": {},
   "outputs": [],
   "source": [
    "import numpy as np\n",
    "\n",
    "g = 9.81    # m s^-2\n",
    "v0  = 13.4  # m s^-\n",
    "times = np.linspace(0, 3, 62)\n",
    "yb = (-1/2)*g*(times**2)+v0*times"
   ]
  },
  {
   "cell_type": "markdown",
   "id": "08f174c0-343b-4e9e-bb12-5e816712ce78",
   "metadata": {},
   "source": [
    "### 3.2 \n",
    "Make a line plot of $y_\\mathrm{b}(t)$ and of the velocity as the numerical derivative of `yb` as well as the acceleration as the second derivative of `yb` wrt `times`. "
   ]
  },
  {
   "cell_type": "code",
   "execution_count": 38,
   "id": "88a1655e-6be7-4940-a2a4-2985b2ee4a1b",
   "metadata": {},
   "outputs": [
    {
     "data": {
      "image/png": "[encoded data removed]",
      "text/plain": [
       "<Figure size 432x288 with 1 Axes>"
      ]
     },
     "metadata": {
      "needs_background": "light"
     },
     "output_type": "display_data"
    }
   ],
   "source": [
    "import numpy as np\n",
    "import matplotlib.pyplot as plt\n",
    "\n",
    "g = 9.81    # m s^-2\n",
    "v0  = 13.4  # m s^-\n",
    "times = np.linspace(0, 3, 62)\n",
    "yb = (-1/2)*g*(times**2)+v0*times\n",
    "acc = np.linspace(1, 1, 62)*-g\n",
    "\n",
    "def der(times, g, v0):\n",
    "    velocity = -1*g*times+v0\n",
    "    return velocity\n",
    "\n",
    "# compute velocity\n",
    "v = der(times, g, v0)\n",
    "\n",
    "plt.xlabel('times')\n",
    "plt.ylabel('y0')\n",
    "# yb wrt times\n",
    "plt.plot(times, yb, label='displacement vs t')\n",
    "# velocity vs times\n",
    "plt.plot(times, v, label='velocity vs t')\n",
    "# second derivative\n",
    "plt.plot(times, acc, label='acc vs t')\n",
    "plt.legend()\n",
    "plt.show()"
   ]
  },
  {
   "cell_type": "markdown",
   "id": "4d7f8bfe-5537-4445-91f2-3da33f36a12e",
   "metadata": {},
   "source": [
    "### 3.3\n",
    "* Find the time for which the maximum height of the ball is reached by determining from the calculated arrays the root of the velocity. Don't use a loop.\n",
    "* Determine when the ball hits the ground again, by finding when `yb` becomes less than zero. Don't use a loop."
   ]
  },
  {
   "cell_type": "code",
   "execution_count": 56,
   "id": "7c1b5d1e-f470-41dc-832c-bf43f8e4793e",
   "metadata": {},
   "outputs": [
    {
     "name": "stdout",
     "output_type": "stream",
     "text": [
      "max height: 9.151281913464123 m\n",
      "yb < 0 at: 2.7540983606557377 sec\n"
     ]
    }
   ],
   "source": [
    "import numpy as np\n",
    "import matplotlib.pyplot as plt\n",
    "\n",
    "g = 9.81    # m s^-2\n",
    "v0  = 13.4  # m s^-\n",
    "times = np.linspace(0, 3, 62)\n",
    "yb = (-1/2)*g*(times**2)+v0*times\n",
    "acc = np.linspace(1, 1, 62)*-g\n",
    "\n",
    "def der(times, g, v0):\n",
    "    velocity = -1*g*times+v0\n",
    "    return velocity\n",
    "\n",
    "# compute velocity\n",
    "v = der(times, g, v0)\n",
    "\n",
    "# find max height of the ball\n",
    "ind = np.where(yb==yb.max())[0][0]\n",
    "maxHeight = yb[ind]\n",
    "print('max height: {} m'.format(maxHeight))\n",
    "\n",
    "# find when yb < 0\n",
    "ind2 = np.where(yb < 0)[0][0]\n",
    "t = times[ind2]\n",
    "print('yb < 0 at: {} sec'.format(t))"
   ]
  },
  {
   "cell_type": "code",
   "execution_count": null,
   "id": "e41ad429-1cbb-4408-899e-b0bc9eb7b216",
   "metadata": {},
   "outputs": [],
   "source": []
  }
 ],
 "metadata": {
  "kernelspec": {
   "display_name": "Python 3",
   "language": "python",
   "name": "python3"
  },
  "language_info": {
   "codemirror_mode": {
    "name": "ipython",
    "version": 3
   },
   "file_extension": ".py",
   "mimetype": "text/x-python",
   "name": "python",
   "nbconvert_exporter": "python",
   "pygments_lexer": "ipython3",
   "version": "3.6.9"
  },
  "widgets": {
   "application/vnd.jupyter.widget-state+json": {
    "state": {},
    "version_major": 2,
    "version_minor": 0
   }
  }
 },
 "nbformat": 4,
 "nbformat_minor": 5
}
